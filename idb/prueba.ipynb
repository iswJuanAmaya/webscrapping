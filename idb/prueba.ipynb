{
 "cells": [
  {
   "cell_type": "code",
   "execution_count": 5,
   "metadata": {},
   "outputs": [],
   "source": [
    "import requests\n",
    "from lxml import html\n",
    "import pandas as pd\n",
    "from datetime import date\n"
   ]
  },
  {
   "attachments": {},
   "cell_type": "markdown",
   "metadata": {},
   "source": [
    "### pandas"
   ]
  },
  {
   "cell_type": "code",
   "execution_count": null,
   "metadata": {},
   "outputs": [],
   "source": [
    "df = pd.DataFrame(columns=['url_detail_id','scrapped_day','opening_date','closing_date','location'])"
   ]
  },
  {
   "cell_type": "code",
   "execution_count": null,
   "metadata": {},
   "outputs": [],
   "source": [
    "df.to_csv('idb_ops.csv', index=False, encoding='utf-8', header=True)"
   ]
  },
  {
   "cell_type": "code",
   "execution_count": null,
   "metadata": {},
   "outputs": [],
   "source": [
    "del df"
   ]
  },
  {
   "attachments": {},
   "cell_type": "markdown",
   "metadata": {},
   "source": [
    "### funciones"
   ]
  },
  {
   "cell_type": "code",
   "execution_count": 2,
   "metadata": {},
   "outputs": [],
   "source": [
    "def get_page(url):\n",
    "    page = requests.get(url)\n",
    "    tree = html.fromstring(page.content)\n",
    "    return tree"
   ]
  },
  {
   "attachments": {},
   "cell_type": "markdown",
   "metadata": {},
   "source": [
    "### primer pagina\n"
   ]
  },
  {
   "cell_type": "code",
   "execution_count": 3,
   "metadata": {},
   "outputs": [],
   "source": [
    "#lee la tabla de la pagina\n",
    "historicals = pd.read_csv('idb_ops.csv', encoding='utf-8')"
   ]
  },
  {
   "cell_type": "code",
   "execution_count": 4,
   "metadata": {},
   "outputs": [
    {
     "data": {
      "text/html": [
       "<div>\n",
       "<style scoped>\n",
       "    .dataframe tbody tr th:only-of-type {\n",
       "        vertical-align: middle;\n",
       "    }\n",
       "\n",
       "    .dataframe tbody tr th {\n",
       "        vertical-align: top;\n",
       "    }\n",
       "\n",
       "    .dataframe thead th {\n",
       "        text-align: right;\n",
       "    }\n",
       "</style>\n",
       "<table border=\"1\" class=\"dataframe\">\n",
       "  <thead>\n",
       "    <tr style=\"text-align: right;\">\n",
       "      <th></th>\n",
       "      <th>url_detail_id</th>\n",
       "      <th>scrapped_day</th>\n",
       "      <th>opening_date</th>\n",
       "      <th>closing_date</th>\n",
       "      <th>location</th>\n",
       "    </tr>\n",
       "  </thead>\n",
       "  <tbody>\n",
       "  </tbody>\n",
       "</table>\n",
       "</div>"
      ],
      "text/plain": [
       "Empty DataFrame\n",
       "Columns: [url_detail_id, scrapped_day, opening_date, closing_date, location]\n",
       "Index: []"
      ]
     },
     "execution_count": 4,
     "metadata": {},
     "output_type": "execute_result"
    }
   ],
   "source": [
    "historicals"
   ]
  },
  {
   "cell_type": "code",
   "execution_count": null,
   "metadata": {},
   "outputs": [],
   "source": [
    "historicals['url_detail_id'][historicals['url_detail_id']=='']"
   ]
  },
  {
   "cell_type": "code",
   "execution_count": 6,
   "metadata": {},
   "outputs": [
    {
     "data": {
      "text/plain": [
       "datetime.date(2023, 3, 11)"
      ]
     },
     "execution_count": 6,
     "metadata": {},
     "output_type": "execute_result"
    }
   ],
   "source": [
    "today = date.today()\n",
    "today"
   ]
  },
  {
   "cell_type": "code",
   "execution_count": 8,
   "metadata": {},
   "outputs": [
    {
     "data": {
      "text/plain": [
       "'11/03/2023'"
      ]
     },
     "execution_count": 8,
     "metadata": {},
     "output_type": "execute_result"
    }
   ],
   "source": [
    "hoy = today.strftime(\"%d/%m/%Y\")\n",
    "hoy"
   ]
  },
  {
   "cell_type": "code",
   "execution_count": 30,
   "metadata": {},
   "outputs": [],
   "source": [
    "new_row = {\n",
    "    'url_detail_id':'https://iadbcareers.referrals.selectminds.com/jobs/ite-ipp-devsecops-and-microservices-engineer-consultant-4953' ,\n",
    "    'scrapped_day': hoy,\n",
    "    'opening_date': 'Mar 13, 2023',\n",
    "    'closing_date': 'Mar 27, 2023',\n",
    "    'location': 'Country Office'}"
   ]
  },
  {
   "cell_type": "code",
   "execution_count": 31,
   "metadata": {},
   "outputs": [],
   "source": [
    "historicals = historicals.append(new_row, ignore_index=True)"
   ]
  },
  {
   "cell_type": "code",
   "execution_count": 53,
   "metadata": {},
   "outputs": [
    {
     "data": {
      "text/html": [
       "<div>\n",
       "<style scoped>\n",
       "    .dataframe tbody tr th:only-of-type {\n",
       "        vertical-align: middle;\n",
       "    }\n",
       "\n",
       "    .dataframe tbody tr th {\n",
       "        vertical-align: top;\n",
       "    }\n",
       "\n",
       "    .dataframe thead th {\n",
       "        text-align: right;\n",
       "    }\n",
       "</style>\n",
       "<table border=\"1\" class=\"dataframe\">\n",
       "  <thead>\n",
       "    <tr style=\"text-align: right;\">\n",
       "      <th></th>\n",
       "      <th>url_detail_id</th>\n",
       "      <th>scrapped_day</th>\n",
       "      <th>opening_date</th>\n",
       "      <th>closing_date</th>\n",
       "      <th>location</th>\n",
       "    </tr>\n",
       "  </thead>\n",
       "  <tbody>\n",
       "    <tr>\n",
       "      <th>0</th>\n",
       "      <td>https://iadbcareers.referrals.selectminds.com/...</td>\n",
       "      <td>11/03/2023</td>\n",
       "      <td>Mar 13, 2023</td>\n",
       "      <td>Mar 27, 2023</td>\n",
       "      <td>Country Office</td>\n",
       "    </tr>\n",
       "  </tbody>\n",
       "</table>\n",
       "</div>"
      ],
      "text/plain": [
       "                                       url_detail_id scrapped_day  \\\n",
       "0  https://iadbcareers.referrals.selectminds.com/...   11/03/2023   \n",
       "\n",
       "   opening_date  closing_date        location  \n",
       "0  Mar 13, 2023  Mar 27, 2023  Country Office  "
      ]
     },
     "execution_count": 53,
     "metadata": {},
     "output_type": "execute_result"
    }
   ],
   "source": [
    "historicals"
   ]
  },
  {
   "cell_type": "code",
   "execution_count": 42,
   "metadata": {},
   "outputs": [],
   "source": [
    "url_pr1 = 'https://iadbcareers.referrals.selectminds.com/jobs/climate-change-consultant-4955'"
   ]
  },
  {
   "cell_type": "code",
   "execution_count": 43,
   "metadata": {},
   "outputs": [],
   "source": [
    "url_pr2 = 'https://iadbcareers.referrals.selectminds.com/jobs/ite-ipp-devsecops-and-microservices-engineer-consultant-4953'"
   ]
  },
  {
   "cell_type": "code",
   "execution_count": 52,
   "metadata": {},
   "outputs": [
    {
     "name": "stdout",
     "output_type": "stream",
     "text": [
      "ya existe\n"
     ]
    }
   ],
   "source": [
    "if historicals['url_detail_id'][historicals['url_detail_id']==url_pr2].any():\n",
    "    print('ya existe')"
   ]
  },
  {
   "cell_type": "code",
   "execution_count": null,
   "metadata": {},
   "outputs": [],
   "source": []
  },
  {
   "cell_type": "code",
   "execution_count": 9,
   "metadata": {},
   "outputs": [],
   "source": [
    "arbol = get_page('https://iadbcareers.referrals.selectminds.com/')"
   ]
  },
  {
   "cell_type": "code",
   "execution_count": 10,
   "metadata": {},
   "outputs": [
    {
     "name": "stdout",
     "output_type": "stream",
     "text": [
      "['New', 'New', 'New', 'New', 'New']\n"
     ]
    }
   ],
   "source": [
    "print(arbol.xpath('//div[@class=\"flg_hldr\"]/span/text()'))"
   ]
  },
  {
   "attachments": {},
   "cell_type": "markdown",
   "metadata": {},
   "source": [
    "### pagina de detalle"
   ]
  },
  {
   "cell_type": "code",
   "execution_count": 11,
   "metadata": {},
   "outputs": [
    {
     "data": {
      "text/plain": [
       "[<Element div at 0x21efb680db0>,\n",
       " <Element div at 0x21efb6534f0>,\n",
       " <Element div at 0x21efb653130>,\n",
       " <Element div at 0x21efb653e50>,\n",
       " <Element div at 0x21efb653ae0>]"
      ]
     },
     "execution_count": 11,
     "metadata": {},
     "output_type": "execute_result"
    }
   ],
   "source": [
    "#obtiene los divs que envuelve a cada oportunidad\n",
    "items = arbol.xpath('//div[contains(@id,\"job_list_\")]')\n",
    "items"
   ]
  },
  {
   "cell_type": "code",
   "execution_count": 12,
   "metadata": {},
   "outputs": [
    {
     "data": {
      "text/plain": [
       "<Element div at 0x21efb680db0>"
      ]
     },
     "execution_count": 12,
     "metadata": {},
     "output_type": "execute_result"
    }
   ],
   "source": [
    "item = items[0]\n",
    "item"
   ]
  },
  {
   "cell_type": "code",
   "execution_count": 13,
   "metadata": {},
   "outputs": [
    {
     "data": {
      "text/plain": [
       "'https://iadbcareers.referrals.selectminds.com/jobs/ite-ipp-devsecops-and-microservices-engineer-consultant-4953'"
      ]
     },
     "execution_count": 13,
     "metadata": {},
     "output_type": "execute_result"
    }
   ],
   "source": [
    "#get the url of detail\n",
    "detail_url = item.xpath('./div/div/p/a[contains(@href,\"/jobs/\")]/@href')[0]\n",
    "detail_url"
   ]
  },
  {
   "cell_type": "code",
   "execution_count": 14,
   "metadata": {},
   "outputs": [],
   "source": [
    "detail_page = get_page(detail_url)"
   ]
  },
  {
   "cell_type": "code",
   "execution_count": 15,
   "metadata": {},
   "outputs": [
    {
     "data": {
      "text/plain": [
       "['\\n\\t\\t\\t\\t\\tITE/IPP DevSecOps and Microservices Engineer Consultant\\n\\t\\t\\t\\t']"
      ]
     },
     "execution_count": 15,
     "metadata": {},
     "output_type": "execute_result"
    }
   ],
   "source": [
    "#title\n",
    "detail_page.xpath('//div[@class=\"content_header\"]/h1/text()')"
   ]
  },
  {
   "cell_type": "code",
   "execution_count": 83,
   "metadata": {},
   "outputs": [
    {
     "data": {
      "text/plain": [
       "['\\n\\t\\t\\t\\t\\t\\t', '\\n\\t\\t\\t\\t\\t\\tCountry Office\\n\\t\\t\\t\\t\\t']"
      ]
     },
     "execution_count": 83,
     "metadata": {},
     "output_type": "execute_result"
    }
   ],
   "source": [
    "#location\n",
    "location = detail_page.xpath('//h4[@class=\"primary_location\"]/a/text()')\n",
    "location"
   ]
  },
  {
   "cell_type": "code",
   "execution_count": 59,
   "metadata": {},
   "outputs": [],
   "source": [
    "import re"
   ]
  },
  {
   "cell_type": "code",
   "execution_count": 61,
   "metadata": {},
   "outputs": [
    {
     "data": {
      "text/plain": [
       "'Country Office'"
      ]
     },
     "execution_count": 61,
     "metadata": {},
     "output_type": "execute_result"
    }
   ],
   "source": [
    "re.sub(r'[\\n\\t]', '', location)"
   ]
  },
  {
   "cell_type": "code",
   "execution_count": 27,
   "metadata": {},
   "outputs": [
    {
     "data": {
      "text/plain": [
       "'Mar 13, 2023'"
      ]
     },
     "execution_count": 27,
     "metadata": {},
     "output_type": "execute_result"
    }
   ],
   "source": [
    "#Opening Date:\n",
    "detail_page.xpath('//label[contains(text(),\"External Opening Date:\")]/text()')[0]\\\n",
    "    .replace('External Opening Date:','').strip()"
   ]
  },
  {
   "cell_type": "code",
   "execution_count": 29,
   "metadata": {},
   "outputs": [
    {
     "data": {
      "text/plain": [
       "'Mar 27, 2023'"
      ]
     },
     "execution_count": 29,
     "metadata": {},
     "output_type": "execute_result"
    }
   ],
   "source": [
    "#Closing Date\n",
    "detail_page.xpath('///label[contains(text(),\"External Closing Date: \")]/text()')[0]\\\n",
    "    .replace('External Closing Date:','').strip()"
   ]
  },
  {
   "cell_type": "code",
   "execution_count": 75,
   "metadata": {},
   "outputs": [],
   "source": [
    "words_to_look = [\n",
    "    'Salud',\n",
    "    'Farmacoeconomía',\n",
    "    'Medicamentos',\n",
    "    'Health',\n",
    "    'Pharmacoeconomics',\n",
    "    'Medicines',\n",
    "    'Santé',\n",
    "    'Pharmacoéconomie',\n",
    "    'Médicaments',\n",
    "    'Saude',\n",
    "    'Farmacoeconomia',\n",
    "    'Medicamentos'\n",
    "    ]"
   ]
  },
  {
   "cell_type": "code",
   "execution_count": 55,
   "metadata": {},
   "outputs": [],
   "source": [
    "detail_page.xpath('//div[@class=\"job_description\"]//descendant::text()')"
   ]
  },
  {
   "cell_type": "code",
   "execution_count": 64,
   "metadata": {},
   "outputs": [],
   "source": [
    "text_for_alert = ' '.join(detail_page.xpath('//div[@class=\"job_description\"]//descendant::text()'))"
   ]
  },
  {
   "cell_type": "code",
   "execution_count": 69,
   "metadata": {},
   "outputs": [
    {
     "data": {
      "text/plain": [
       "\"ITE/IPP DevSecOps and Microservices Engineer Consultant    The IDB Group is a community of diverse, versatile, and passionate people who come together on a journey to improve lives in Latin America and the Caribbean. Our people find purpose and do what they love in an inclusive, collaborative, agile, and rewarding environment    About this position:  ITE/IPP Policy and Planning Division is looking for an experienced professional with background in DevSecOps, Containers and Microservices to evaluate, develop and implement a DevSecOps platforms and a cloud-based Container Management platform.  The Information Technology Department (ITE) is responsible for formulating the Bank's IT Strategy, its implementation and providing related tools, solutions, and services. The ITE/IPP Policy and Planning Division is the focal point for IT policies, architecture, and governance for the IDB.     What you’ll do:   You will report to the Enterprise Architecture Team Leader in the Information Technology Policy & Planning Division. Following are the most important activities you will be doing to move forward the IT Project and Portfolio Management program towards its goals:    You will implement different proofs of concept of various DevSecOps and cloud-based Container Management platforms to support the evaluation process.  Work with different development teams to evaluate gather their feedback on the current platform and their improvement suggestions.  Support the IDB team on the selection of the new toolset for both the DevSecOps and cloud-based Container Management platforms, improve the current DevSecOps processes, design the Container strategy and Microservices strategy.  Support the IDB operations team on the implementation and configuration of the tools selected.     What you’ll need:   Education:  Bachelor's degree from an accredited university in Information Technology.  Experience:     The ideal candidate has a development background while being well-versed in modern cloud-based and on-prem architecture. At least 3 years of experience.   Full stack development: Solid grasp of web and backend application development.  Some experience in JavaScript MVC frameworks.  Some experience with .NET, Python or Java.  Experience managing or using a DevSecOps platform.  Exposure and/or experience with Container-based applications and its DevSecOps life cycle.  Solid understanding of the DevSecOps best practices and culture.  Experience working with Cloud environments (e.g., Azure or AWS).  Exposure and/or experience with Ansible or Terraform or other automation tools.  Exposure and/or experience with Container-based applications and its DevSecOps life cycle.   Languages:  Proficiency in English and one of the other Bank official languages (Spanish, French or Portuguese) is required.    Key skills:  · Learn continuously.  · Collaborate and share knowledge.  · Focus on clients.  · Communicate and influence.  · Innovate and try new things.    Requirements:  · Citizenship1: You must be a citizen of one of our 48-member countries, and a citizen or permanent resident of a country where the IDB has a Country Office.  · Consanguinity: You have no family members (up to the fourth degree of consanguinity and second degree of affinity, including spouse) working at the IDB, IDB Invest, or IDB Lab.  · Remote Modality: The selected candidate will not provide services from the Bank’s office and will not be provided a physical space on the premises of the Bank’s Country Office. The candidate selected will be responsible for setting up the space, and for having the equipment, internet, and phone accesses to accomplish these TORs, outside the Bank’s office. Access to the Bank’s systems will be arranged in coordination with the Bank.  · COVID-19 considerations: the health and safety of our employees are our number one priority. As a condition of employment, IDB/IDB Invest requires all new hires to be fully vaccinated against COVID-19.    Type of contract and duration:  Type of contract:  National Consultant (Local Remote Modality)  Length of contract:  19 months    What we offer :  The IDB group providesbenefits that respond to the different needs and moments of an employee’s life. These benefits include:   A competitive compensation packages  Leaves and vacations : 2 days per month of contract + gender- neutral parental leave  Health Insurance : the IDB Group provides a monthly allowance for the purchase of health insurance  Savings plan : The IDB Group cares about your future, depending on the length of the contract, you will receive a monthly savings plan allowance.  We offer assistance with relocation and visa applications for you and your familywhen it applies  Hybrid and flexible work schedules  Development support: We offer learning opportunities to boost your professional profile such as seminars, 1:1 professional counseling, and much more.  Health and wellbeing: Access to our Health Services Center which provides preventive care and health education for all employees.  Other perks: Lactation Room, Daycare Center, Gym, Bike Racks, Parking, and others.   Our culture  At the IDB Group we work so everyone brings their best and authentic selves to work, willing to try new approaches without fear, and where they are accountable and rewarded for their actions.  Diversity, Equity, Inclusion and Belonging (DEIB) are at the center of our organization. We celebrate all dimensions of diversity and encourage women, LGBTQ+ people, persons with disabilities, Afro-descendants, and Indigenous people to apply.  We will ensure that individuals with disabilities are provided reasonable accommodation to participate in the job interview process. If you are a qualified candidate with a disability, please e-mail us at diversity@iadb.org  to request reasonable accommodation to complete this application.  Our Human Resources Team reviews carefully every application.  About the IDB Group  The IDB Group, composed of the Inter-American Development Bank (IDB), IDB Invest, and the IDB Lab offers flexible financing solutions to its member countries to finance economic and social development through lending and grants to public and private entities in Latin America and the Caribbean.  About IDB  We work to improve lives in Latin America and the Caribbean. Through financial and technical support for countries working to reduce poverty and inequality, we help improve health and education and advance infrastructure. Our aim is to achieve development in a sustainable, climate-friendly way. With a history dating back to 1959, today we are the leading source of development financing for Latin America and the Caribbean. We provide loans, grants, and technical assistance; and we conduct extensive research. We maintain a strong commitment to achieving measurable results and the highest standards of integrity, transparency, and accountability.  Follow us :  https://www.linkedin.com/company/inter-american-development-bank/  https://www.facebook.com/IADB.org  https://twitter.com/the_IDB    1 For National Remote Consultant: Argentina, Barbados, Bahamas, Belize, Bolivia, Brazil, Chile, Colombia, Costa Rica, Dominican Republic, Ecuador, El Salvador, Guatemala, Guyana, Haiti, Honduras, Jamaica, Mexico, Nicaragua, Peru, Panama, Paraguay, Suriname, Trinidad & Tobago, Uruguay.        Additional Information                                                                                                                                              External Opening Date: Mar 13, 2023                      External Closing Date: Mar 27, 2023                                                                                  Job Field: Technical Support\""
      ]
     },
     "execution_count": 69,
     "metadata": {},
     "output_type": "execute_result"
    }
   ],
   "source": [
    "text_for_alert = re.sub(r'[\\n\\t\\xa0]', '', text_for_alert ).strip()\n",
    "text_for_alert "
   ]
  },
  {
   "cell_type": "code",
   "execution_count": 76,
   "metadata": {},
   "outputs": [
    {
     "name": "stdout",
     "output_type": "stream",
     "text": [
      "si\n"
     ]
    }
   ],
   "source": [
    "if any(word in text_for_alert for word in words_to_look):\n",
    "    print('si')"
   ]
  },
  {
   "cell_type": "code",
   "execution_count": 80,
   "metadata": {},
   "outputs": [
    {
     "data": {
      "text/plain": [
       "[False,\n",
       " False,\n",
       " False,\n",
       " True,\n",
       " False,\n",
       " False,\n",
       " False,\n",
       " False,\n",
       " False,\n",
       " False,\n",
       " False,\n",
       " False]"
      ]
     },
     "execution_count": 80,
     "metadata": {},
     "output_type": "execute_result"
    }
   ],
   "source": [
    "[word in text_for_alert for word in words_to_look]"
   ]
  },
  {
   "cell_type": "code",
   "execution_count": 73,
   "metadata": {},
   "outputs": [
    {
     "data": {
      "text/plain": [
       "['Health', 'Health', 'Health']"
      ]
     },
     "execution_count": 73,
     "metadata": {},
     "output_type": "execute_result"
    }
   ],
   "source": [
    "re.findall(\"Health\", text_for_alert)"
   ]
  },
  {
   "cell_type": "code",
   "execution_count": 85,
   "metadata": {},
   "outputs": [
    {
     "data": {
      "text/plain": [
       "\"ite/ipp devsecops and microservices engineer consultant    the idb group is a community of diverse, versatile, and passionate people who come together on a journey to improve lives in latin america and the caribbean. our people find purpose and do what they love in an inclusive, collaborative, agile, and rewarding environment    about this position:  ite/ipp policy and planning division is looking for an experienced professional with background in devsecops, containers and microservices to evaluate, develop and implement a devsecops platforms and a cloud-based container management platform.  the information technology department (ite) is responsible for formulating the bank's it strategy, its implementation and providing related tools, solutions, and services. the ite/ipp policy and planning division is the focal point for it policies, architecture, and governance for the idb.     what you’ll do:   you will report to the enterprise architecture team leader in the information technology policy & planning division. following are the most important activities you will be doing to move forward the it project and portfolio management program towards its goals:    you will implement different proofs of concept of various devsecops and cloud-based container management platforms to support the evaluation process.  work with different development teams to evaluate gather their feedback on the current platform and their improvement suggestions.  support the idb team on the selection of the new toolset for both the devsecops and cloud-based container management platforms, improve the current devsecops processes, design the container strategy and microservices strategy.  support the idb operations team on the implementation and configuration of the tools selected.     what you’ll need:   education:  bachelor's degree from an accredited university in information technology.  experience:     the ideal candidate has a development background while being well-versed in modern cloud-based and on-prem architecture. at least 3 years of experience.   full stack development: solid grasp of web and backend application development.  some experience in javascript mvc frameworks.  some experience with .net, python or java.  experience managing or using a devsecops platform.  exposure and/or experience with container-based applications and its devsecops life cycle.  solid understanding of the devsecops best practices and culture.  experience working with cloud environments (e.g., azure or aws).  exposure and/or experience with ansible or terraform or other automation tools.  exposure and/or experience with container-based applications and its devsecops life cycle.   languages:  proficiency in english and one of the other bank official languages (spanish, french or portuguese) is required.    key skills:  · learn continuously.  · collaborate and share knowledge.  · focus on clients.  · communicate and influence.  · innovate and try new things.    requirements:  · citizenship1: you must be a citizen of one of our 48-member countries, and a citizen or permanent resident of a country where the idb has a country office.  · consanguinity: you have no family members (up to the fourth degree of consanguinity and second degree of affinity, including spouse) working at the idb, idb invest, or idb lab.  · remote modality: the selected candidate will not provide services from the bank’s office and will not be provided a physical space on the premises of the bank’s country office. the candidate selected will be responsible for setting up the space, and for having the equipment, internet, and phone accesses to accomplish these tors, outside the bank’s office. access to the bank’s systems will be arranged in coordination with the bank.  · covid-19 considerations: the health and safety of our employees are our number one priority. as a condition of employment, idb/idb invest requires all new hires to be fully vaccinated against covid-19.    type of contract and duration:  type of contract:  national consultant (local remote modality)  length of contract:  19 months    what we offer :  the idb group providesbenefits that respond to the different needs and moments of an employee’s life. these benefits include:   a competitive compensation packages  leaves and vacations : 2 days per month of contract + gender- neutral parental leave  health insurance : the idb group provides a monthly allowance for the purchase of health insurance  savings plan : the idb group cares about your future, depending on the length of the contract, you will receive a monthly savings plan allowance.  we offer assistance with relocation and visa applications for you and your familywhen it applies  hybrid and flexible work schedules  development support: we offer learning opportunities to boost your professional profile such as seminars, 1:1 professional counseling, and much more.  health and wellbeing: access to our health services center which provides preventive care and health education for all employees.  other perks: lactation room, daycare center, gym, bike racks, parking, and others.   our culture  at the idb group we work so everyone brings their best and authentic selves to work, willing to try new approaches without fear, and where they are accountable and rewarded for their actions.  diversity, equity, inclusion and belonging (deib) are at the center of our organization. we celebrate all dimensions of diversity and encourage women, lgbtq+ people, persons with disabilities, afro-descendants, and indigenous people to apply.  we will ensure that individuals with disabilities are provided reasonable accommodation to participate in the job interview process. if you are a qualified candidate with a disability, please e-mail us at diversity@iadb.org  to request reasonable accommodation to complete this application.  our human resources team reviews carefully every application.  about the idb group  the idb group, composed of the inter-american development bank (idb), idb invest, and the idb lab offers flexible financing solutions to its member countries to finance economic and social development through lending and grants to public and private entities in latin america and the caribbean.  about idb  we work to improve lives in latin america and the caribbean. through financial and technical support for countries working to reduce poverty and inequality, we help improve health and education and advance infrastructure. our aim is to achieve development in a sustainable, climate-friendly way. with a history dating back to 1959, today we are the leading source of development financing for latin america and the caribbean. we provide loans, grants, and technical assistance; and we conduct extensive research. we maintain a strong commitment to achieving measurable results and the highest standards of integrity, transparency, and accountability.  follow us :  https://www.linkedin.com/company/inter-american-development-bank/  https://www.facebook.com/iadb.org  https://twitter.com/the_idb    1 for national remote consultant: argentina, barbados, bahamas, belize, bolivia, brazil, chile, colombia, costa rica, dominican republic, ecuador, el salvador, guatemala, guyana, haiti, honduras, jamaica, mexico, nicaragua, peru, panama, paraguay, suriname, trinidad & tobago, uruguay.        additional information                                                                                                                                              external opening date: mar 13, 2023                      external closing date: mar 27, 2023                                                                                  job field: technical support\""
      ]
     },
     "execution_count": 85,
     "metadata": {},
     "output_type": "execute_result"
    }
   ],
   "source": [
    "text_for_alert.lower()"
   ]
  }
 ],
 "metadata": {
  "kernelspec": {
   "display_name": "Python 3",
   "language": "python",
   "name": "python3"
  },
  "language_info": {
   "codemirror_mode": {
    "name": "ipython",
    "version": 3
   },
   "file_extension": ".py",
   "mimetype": "text/x-python",
   "name": "python",
   "nbconvert_exporter": "python",
   "pygments_lexer": "ipython3",
   "version": "3.9.0"
  },
  "orig_nbformat": 4
 },
 "nbformat": 4,
 "nbformat_minor": 2
}
