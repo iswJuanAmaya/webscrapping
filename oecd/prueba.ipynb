{
 "cells": [
  {
   "cell_type": "code",
   "execution_count": 28,
   "metadata": {},
   "outputs": [],
   "source": [
    "import requests\n",
    "from lxml import html\n",
    "import pandas as pd\n",
    "from datetime import date\n",
    "import re"
   ]
  },
  {
   "cell_type": "code",
   "execution_count": 4,
   "metadata": {},
   "outputs": [],
   "source": [
    "words_to_look = [\n",
    "    'salud',\n",
    "    'farmacoeconomía',\n",
    "    'medicamentos',\n",
    "    'health',\n",
    "    'pharmacoeconomics',\n",
    "    'medicines',\n",
    "    'santé ',\n",
    "    'pharmacoéconomie',\n",
    "    'médicaments',\n",
    "    'saude',\n",
    "    'farmacoeconomia',\n",
    "    'medicamentos'\n",
    "]\n",
    "\n",
    "today = date.today().strftime(\"%d/%m/%Y\")\n",
    "source = 'OECD'\n",
    "file_name = './oecd_ops.csv'\n",
    "main_url = 'https://www.oecd.org/callsfortenders/listofallcallsfortenders.htm'"
   ]
  },
  {
   "attachments": {},
   "cell_type": "markdown",
   "metadata": {},
   "source": [
    "### Generacion de csv"
   ]
  },
  {
   "cell_type": "code",
   "execution_count": 2,
   "metadata": {},
   "outputs": [],
   "source": [
    "df = pd.DataFrame(columns=['url_detail_id','scrapped_day','title','opening_date',\n",
    "                           'closing_date','source','is_alert','location'])"
   ]
  },
  {
   "cell_type": "code",
   "execution_count": 5,
   "metadata": {},
   "outputs": [],
   "source": [
    "df.to_csv(file_name, index=False, encoding='utf-8', header=True)"
   ]
  },
  {
   "cell_type": "code",
   "execution_count": 6,
   "metadata": {},
   "outputs": [],
   "source": [
    "del df"
   ]
  },
  {
   "attachments": {},
   "cell_type": "markdown",
   "metadata": {},
   "source": [
    "### probando"
   ]
  },
  {
   "cell_type": "code",
   "execution_count": 7,
   "metadata": {},
   "outputs": [],
   "source": [
    "#lee la tabla de la pagina\n",
    "df = pd.read_csv(file_name, encoding='utf-8')"
   ]
  },
  {
   "cell_type": "code",
   "execution_count": 8,
   "metadata": {},
   "outputs": [
    {
     "data": {
      "text/html": [
       "<div>\n",
       "<style scoped>\n",
       "    .dataframe tbody tr th:only-of-type {\n",
       "        vertical-align: middle;\n",
       "    }\n",
       "\n",
       "    .dataframe tbody tr th {\n",
       "        vertical-align: top;\n",
       "    }\n",
       "\n",
       "    .dataframe thead th {\n",
       "        text-align: right;\n",
       "    }\n",
       "</style>\n",
       "<table border=\"1\" class=\"dataframe\">\n",
       "  <thead>\n",
       "    <tr style=\"text-align: right;\">\n",
       "      <th></th>\n",
       "      <th>url_detail_id</th>\n",
       "      <th>scrapped_day</th>\n",
       "      <th>title</th>\n",
       "      <th>opening_date</th>\n",
       "      <th>closing_date</th>\n",
       "      <th>source</th>\n",
       "      <th>is_alert</th>\n",
       "      <th>location</th>\n",
       "    </tr>\n",
       "  </thead>\n",
       "  <tbody>\n",
       "  </tbody>\n",
       "</table>\n",
       "</div>"
      ],
      "text/plain": [
       "Empty DataFrame\n",
       "Columns: [url_detail_id, scrapped_day, title, opening_date, closing_date, source, is_alert, location]\n",
       "Index: []"
      ]
     },
     "execution_count": 8,
     "metadata": {},
     "output_type": "execute_result"
    }
   ],
   "source": [
    "df"
   ]
  },
  {
   "cell_type": "code",
   "execution_count": 9,
   "metadata": {},
   "outputs": [],
   "source": [
    "def get_page(url):\n",
    "    page = requests.get(url)\n",
    "    tree = html.fromstring(page.content)\n",
    "    return tree"
   ]
  },
  {
   "cell_type": "code",
   "execution_count": 49,
   "metadata": {},
   "outputs": [],
   "source": [
    "def get_by_xpath_and_clean(tree, xpath, i=0):\n",
    "    \"\"\"\"\"\"\n",
    "    try:\n",
    "        if i=='join':\n",
    "            text = tree.xpath(xpath)\n",
    "            text = re.sub(r'[\\n\\t\\xa0]', '', ' '.join(text)).strip()\n",
    "            return text\n",
    "        else:\n",
    "            text = tree.xpath(xpath)[i]\n",
    "            text = re.sub(r'[\\n\\t\\xa0]', '', text).strip()\n",
    "            return text\n",
    "    except:\n",
    "        return None"
   ]
  },
  {
   "cell_type": "code",
   "execution_count": 10,
   "metadata": {},
   "outputs": [],
   "source": [
    "\n",
    "response = get_page(main_url)"
   ]
  },
  {
   "cell_type": "code",
   "execution_count": 33,
   "metadata": {},
   "outputs": [
    {
     "data": {
      "text/plain": [
       "[<Element tr at 0x1e52268be00>,\n",
       " <Element tr at 0x1e5232dd590>,\n",
       " <Element tr at 0x1e522726090>,\n",
       " <Element tr at 0x1e522726680>]"
      ]
     },
     "execution_count": 33,
     "metadata": {},
     "output_type": "execute_result"
    }
   ],
   "source": [
    "#get a list of jobs and ommits the first one and the last one\n",
    "response.xpath('//tbody/tr')[1:-1]"
   ]
  },
  {
   "cell_type": "code",
   "execution_count": 34,
   "metadata": {},
   "outputs": [],
   "source": [
    "jobs = response.xpath('//tbody/tr')[1:-1]"
   ]
  },
  {
   "cell_type": "code",
   "execution_count": 44,
   "metadata": {},
   "outputs": [
    {
     "data": {
      "text/plain": [
       "'RFQ_646'"
      ]
     },
     "execution_count": 44,
     "metadata": {},
     "output_type": "execute_result"
    }
   ],
   "source": [
    "get_by_xpath_and_clean(jobs[0], './td[2]/text()')"
   ]
  },
  {
   "cell_type": "code",
   "execution_count": 46,
   "metadata": {},
   "outputs": [
    {
     "data": {
      "text/plain": [
       "'https://www.oecd.org/callsfortenders/RFQ_646_WEB.pdf'"
      ]
     },
     "execution_count": 46,
     "metadata": {},
     "output_type": "execute_result"
    }
   ],
   "source": [
    "'https://www.oecd.org' + get_by_xpath_and_clean(jobs[0], '(./td[4]/p//a)[1]/@href')"
   ]
  },
  {
   "cell_type": "code",
   "execution_count": 53,
   "metadata": {},
   "outputs": [
    {
     "data": {
      "text/plain": [
       "'Maintenance of the canopy glass ceiling Contact: kevin.sejean@oecd.org'"
      ]
     },
     "execution_count": 53,
     "metadata": {},
     "output_type": "execute_result"
    }
   ],
   "source": [
    "get_by_xpath_and_clean(jobs[0], './td[4]/descendant::text()', i='join')"
   ]
  },
  {
   "cell_type": "code",
   "execution_count": 55,
   "metadata": {},
   "outputs": [
    {
     "data": {
      "text/plain": [
       "'06.03.2023'"
      ]
     },
     "execution_count": 55,
     "metadata": {},
     "output_type": "execute_result"
    }
   ],
   "source": [
    "get_by_xpath_and_clean(jobs[0], './td[5]/text()')"
   ]
  },
  {
   "cell_type": "code",
   "execution_count": 56,
   "metadata": {},
   "outputs": [
    {
     "data": {
      "text/plain": [
       "'30.03.2023 2.00 pm (Paris time)'"
      ]
     },
     "execution_count": 56,
     "metadata": {},
     "output_type": "execute_result"
    }
   ],
   "source": [
    "get_by_xpath_and_clean(jobs[0], './td[6]/text()', i='join')"
   ]
  },
  {
   "cell_type": "code",
   "execution_count": 57,
   "metadata": {},
   "outputs": [
    {
     "name": "stdout",
     "output_type": "stream",
     "text": [
      "nueva oportunidad encontrada\n",
      "nueva oportunidad encontrada\n",
      "nueva oportunidad encontrada\n",
      "nueva oportunidad encontrada\n"
     ]
    }
   ],
   "source": [
    "for i, job in enumerate(jobs):\n",
    "    #get the url of detail\n",
    "    detail_url = 'https://www.oecd.org' + get_by_xpath_and_clean(job, '(./td[4]/p//a)[1]/@href')\n",
    "    \n",
    "    #looks if the detail url is already in the dataset\n",
    "    if df['url_detail_id'][df['url_detail_id']==detail_url].any():\n",
    "        print('this job is already in the dataset')\n",
    "        continue\n",
    "    #if not  exist, get the detail\n",
    "    else:\n",
    "        print('nueva oportunidad encontrada')\n",
    "        #type RFQ\n",
    "        type_RFQ = get_by_xpath_and_clean(job, './td[2]/text()')\n",
    "        #get the title\n",
    "        title = get_by_xpath_and_clean(job, './td[4]/descendant::text()', i='join')\n",
    "        #get the location (type RFQ)\n",
    "        location = get_by_xpath_and_clean(job, './td[2]/text()')\n",
    "        #Opening Date:\n",
    "        opening_date = get_by_xpath_and_clean(job, './td[5]/text()')\n",
    "        #Closing Date\n",
    "        closing_date = get_by_xpath_and_clean(job, './td[6]/text()', i='join')\n",
    "        \n",
    "        #find the body of the job and look for the words_to_look to appear once at least\n",
    "        is_alert = False\n",
    "\n",
    "        text_for_alert = title.strip().lower()\n",
    "        if any(word in text_for_alert for word in words_to_look):\n",
    "            is_alert = True\n",
    "        #add the new job to the dataset\n",
    "        df = df.append({'url_detail_id': detail_url, 'scrapped_day': today,  'title': title, \n",
    "                'opening_date': opening_date, 'closing_date': closing_date,'location': location,\n",
    "                'is_alert': is_alert, 'source': source}, ignore_index=True)"
   ]
  },
  {
   "cell_type": "code",
   "execution_count": 58,
   "metadata": {},
   "outputs": [
    {
     "data": {
      "text/html": [
       "<div>\n",
       "<style scoped>\n",
       "    .dataframe tbody tr th:only-of-type {\n",
       "        vertical-align: middle;\n",
       "    }\n",
       "\n",
       "    .dataframe tbody tr th {\n",
       "        vertical-align: top;\n",
       "    }\n",
       "\n",
       "    .dataframe thead th {\n",
       "        text-align: right;\n",
       "    }\n",
       "</style>\n",
       "<table border=\"1\" class=\"dataframe\">\n",
       "  <thead>\n",
       "    <tr style=\"text-align: right;\">\n",
       "      <th></th>\n",
       "      <th>url_detail_id</th>\n",
       "      <th>scrapped_day</th>\n",
       "      <th>title</th>\n",
       "      <th>opening_date</th>\n",
       "      <th>closing_date</th>\n",
       "      <th>source</th>\n",
       "      <th>is_alert</th>\n",
       "      <th>location</th>\n",
       "    </tr>\n",
       "  </thead>\n",
       "  <tbody>\n",
       "    <tr>\n",
       "      <th>0</th>\n",
       "      <td>https://www.oecd.org/callsfortenders/RFQ_646_W...</td>\n",
       "      <td>14/03/2023</td>\n",
       "      <td>Maintenance of the canopy glass ceiling Contac...</td>\n",
       "      <td>06.03.2023</td>\n",
       "      <td>30.03.2023 2.00 pm (Paris time)</td>\n",
       "      <td>OECD</td>\n",
       "      <td>False</td>\n",
       "      <td>RFQ_646</td>\n",
       "    </tr>\n",
       "    <tr>\n",
       "      <th>1</th>\n",
       "      <td>https://www.oecd.org/callsfortenders/RFQ_645_W...</td>\n",
       "      <td>14/03/2023</td>\n",
       "      <td>Fire Safety Systems Coordination Contact: kevi...</td>\n",
       "      <td>06.03.2023</td>\n",
       "      <td>30.03.2023 2.00 pm (Paris time)</td>\n",
       "      <td>OECD</td>\n",
       "      <td>False</td>\n",
       "      <td>RFQ_645</td>\n",
       "    </tr>\n",
       "    <tr>\n",
       "      <th>2</th>\n",
       "      <td>https://www.oecd.org/callsfortenders/RFQ_644_W...</td>\n",
       "      <td>14/03/2023</td>\n",
       "      <td>Audio Visual services Contact:  kevin.sejean@o...</td>\n",
       "      <td>06.03.2023</td>\n",
       "      <td>30.03.2023 2.00 pm (Paris time)</td>\n",
       "      <td>OECD</td>\n",
       "      <td>False</td>\n",
       "      <td>RFQ_644</td>\n",
       "    </tr>\n",
       "    <tr>\n",
       "      <th>3</th>\n",
       "      <td>https://www.oecd.org/callsfortenders/RFI.pdf</td>\n",
       "      <td>14/03/2023</td>\n",
       "      <td>Request for Information on the Common Transmis...</td>\n",
       "      <td>06.03.2023</td>\n",
       "      <td>30.03.2023 2.00 pm (Paris time)</td>\n",
       "      <td>OECD</td>\n",
       "      <td>False</td>\n",
       "      <td></td>\n",
       "    </tr>\n",
       "  </tbody>\n",
       "</table>\n",
       "</div>"
      ],
      "text/plain": [
       "                                       url_detail_id scrapped_day  \\\n",
       "0  https://www.oecd.org/callsfortenders/RFQ_646_W...   14/03/2023   \n",
       "1  https://www.oecd.org/callsfortenders/RFQ_645_W...   14/03/2023   \n",
       "2  https://www.oecd.org/callsfortenders/RFQ_644_W...   14/03/2023   \n",
       "3       https://www.oecd.org/callsfortenders/RFI.pdf   14/03/2023   \n",
       "\n",
       "                                               title opening_date  \\\n",
       "0  Maintenance of the canopy glass ceiling Contac...   06.03.2023   \n",
       "1  Fire Safety Systems Coordination Contact: kevi...   06.03.2023   \n",
       "2  Audio Visual services Contact:  kevin.sejean@o...   06.03.2023   \n",
       "3  Request for Information on the Common Transmis...   06.03.2023   \n",
       "\n",
       "                      closing_date source is_alert location  \n",
       "0  30.03.2023 2.00 pm (Paris time)   OECD    False  RFQ_646  \n",
       "1  30.03.2023 2.00 pm (Paris time)   OECD    False  RFQ_645  \n",
       "2  30.03.2023 2.00 pm (Paris time)   OECD    False  RFQ_644  \n",
       "3  30.03.2023 2.00 pm (Paris time)   OECD    False           "
      ]
     },
     "execution_count": 58,
     "metadata": {},
     "output_type": "execute_result"
    }
   ],
   "source": [
    "df"
   ]
  },
  {
   "cell_type": "code",
   "execution_count": null,
   "metadata": {},
   "outputs": [],
   "source": []
  },
  {
   "cell_type": "code",
   "execution_count": 27,
   "metadata": {},
   "outputs": [
    {
     "data": {
      "text/plain": [
       "['Call for Tenders']"
      ]
     },
     "execution_count": 27,
     "metadata": {},
     "output_type": "execute_result"
    }
   ],
   "source": [
    "#Type RFQ\n",
    "response.xpath('//tbody/tr[2]/td[1]/text()')"
   ]
  },
  {
   "cell_type": "code",
   "execution_count": 35,
   "metadata": {},
   "outputs": [
    {
     "data": {
      "text/plain": [
       "['RFQ_646']"
      ]
     },
     "execution_count": 35,
     "metadata": {},
     "output_type": "execute_result"
    }
   ],
   "source": [
    "#rfq number\n",
    "response.xpath('//tbody/tr[2]/td[2]/text()')"
   ]
  },
  {
   "cell_type": "code",
   "execution_count": 42,
   "metadata": {},
   "outputs": [
    {
     "data": {
      "text/plain": [
       "['/callsfortenders/RFQ_646_WEB.pdf']"
      ]
     },
     "execution_count": 42,
     "metadata": {},
     "output_type": "execute_result"
    }
   ],
   "source": [
    "#detail_url //tbody/tr/td/p[1]//a[1]\n",
    "response.xpath('(//tbody/tr[2]/td[4]/p//a)[1]/@href')"
   ]
  },
  {
   "cell_type": "code",
   "execution_count": 26,
   "metadata": {},
   "outputs": [
    {
     "data": {
      "text/plain": [
       "['\\n',\n",
       " 'Maintenance of the canopy glass ceiling',\n",
       " 'Contact:\\xa0',\n",
       " 'kevin.sejean@oecd.org',\n",
       " '\\n']"
      ]
     },
     "execution_count": 26,
     "metadata": {},
     "output_type": "execute_result"
    }
   ],
   "source": [
    "#offer\n",
    "response.xpath('//tbody/tr[2]/td[4]/descendant::text()')"
   ]
  },
  {
   "cell_type": "code",
   "execution_count": 54,
   "metadata": {},
   "outputs": [
    {
     "data": {
      "text/plain": [
       "['06.03.2023\\xa0']"
      ]
     },
     "execution_count": 54,
     "metadata": {},
     "output_type": "execute_result"
    }
   ],
   "source": [
    "#Launched on \n",
    "response.xpath('//tbody/tr[2]/td[5]/text()')"
   ]
  },
  {
   "cell_type": "code",
   "execution_count": 24,
   "metadata": {},
   "outputs": [
    {
     "data": {
      "text/plain": [
       "['30.03.2023', '2.00 pm (Paris time)\\xa0\\xa0']"
      ]
     },
     "execution_count": 24,
     "metadata": {},
     "output_type": "execute_result"
    }
   ],
   "source": [
    "#Deadline\n",
    "response.xpath('//tbody/tr[2]/td[6]/text()')"
   ]
  }
 ],
 "metadata": {
  "kernelspec": {
   "display_name": "Python 3",
   "language": "python",
   "name": "python3"
  },
  "language_info": {
   "codemirror_mode": {
    "name": "ipython",
    "version": 3
   },
   "file_extension": ".py",
   "mimetype": "text/x-python",
   "name": "python",
   "nbconvert_exporter": "python",
   "pygments_lexer": "ipython3",
   "version": "3.9.0"
  },
  "orig_nbformat": 4
 },
 "nbformat": 4,
 "nbformat_minor": 2
}
