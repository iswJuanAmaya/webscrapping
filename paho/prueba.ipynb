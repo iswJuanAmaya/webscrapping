{
 "cells": [
  {
   "cell_type": "code",
   "execution_count": 2,
   "metadata": {},
   "outputs": [],
   "source": [
    "import requests\n",
    "from lxml import html\n",
    "import pandas as pd\n",
    "from datetime import date\n",
    "import re"
   ]
  },
  {
   "cell_type": "code",
   "execution_count": 3,
   "metadata": {},
   "outputs": [],
   "source": [
    "words_to_look = [\n",
    "    'farmacoeconomía',\n",
    "    'sistema de salud',\n",
    "    'pharmacoeconomics',\n",
    "    'health systems',\n",
    "    'pharmacoéconomie',\n",
    "    'systèmes  de santé', \n",
    "    'farmacoeconomia',\n",
    "    'sistemas de saude'\n",
    "]\n",
    "\n",
    "today = date.today().strftime(\"%d/%m/%Y\")\n",
    "source = 'PAHO'\n",
    "file_name = './paho_ops.csv'\n",
    "main_url = 'https://paho.wd5.myworkdayjobs.com/en-US/pahocareers'"
   ]
  },
  {
   "attachments": {},
   "cell_type": "markdown",
   "metadata": {},
   "source": [
    "### Generacion de csv"
   ]
  },
  {
   "cell_type": "code",
   "execution_count": 4,
   "metadata": {},
   "outputs": [],
   "source": [
    "df = pd.DataFrame(columns=['url_detail_id','scrapped_day','title','opening_date',\n",
    "                           'closing_date','source','is_alert','location'])"
   ]
  },
  {
   "cell_type": "code",
   "execution_count": 5,
   "metadata": {},
   "outputs": [],
   "source": [
    "df.to_csv(file_name, index=False, encoding='utf-8', header=True)"
   ]
  },
  {
   "cell_type": "code",
   "execution_count": 6,
   "metadata": {},
   "outputs": [],
   "source": [
    "del df"
   ]
  },
  {
   "attachments": {},
   "cell_type": "markdown",
   "metadata": {},
   "source": [
    "### probando"
   ]
  },
  {
   "cell_type": "code",
   "execution_count": 7,
   "metadata": {},
   "outputs": [],
   "source": [
    "#lee la tabla de la pagina\n",
    "df = pd.read_csv(file_name, encoding='utf-8')"
   ]
  },
  {
   "cell_type": "code",
   "execution_count": 8,
   "metadata": {},
   "outputs": [
    {
     "data": {
      "text/html": [
       "<div>\n",
       "<style scoped>\n",
       "    .dataframe tbody tr th:only-of-type {\n",
       "        vertical-align: middle;\n",
       "    }\n",
       "\n",
       "    .dataframe tbody tr th {\n",
       "        vertical-align: top;\n",
       "    }\n",
       "\n",
       "    .dataframe thead th {\n",
       "        text-align: right;\n",
       "    }\n",
       "</style>\n",
       "<table border=\"1\" class=\"dataframe\">\n",
       "  <thead>\n",
       "    <tr style=\"text-align: right;\">\n",
       "      <th></th>\n",
       "      <th>url_detail_id</th>\n",
       "      <th>scrapped_day</th>\n",
       "      <th>title</th>\n",
       "      <th>opening_date</th>\n",
       "      <th>closing_date</th>\n",
       "      <th>source</th>\n",
       "      <th>is_alert</th>\n",
       "      <th>location</th>\n",
       "    </tr>\n",
       "  </thead>\n",
       "  <tbody>\n",
       "  </tbody>\n",
       "</table>\n",
       "</div>"
      ],
      "text/plain": [
       "Empty DataFrame\n",
       "Columns: [url_detail_id, scrapped_day, title, opening_date, closing_date, source, is_alert, location]\n",
       "Index: []"
      ]
     },
     "execution_count": 8,
     "metadata": {},
     "output_type": "execute_result"
    }
   ],
   "source": [
    "df"
   ]
  },
  {
   "cell_type": "code",
   "execution_count": 9,
   "metadata": {},
   "outputs": [],
   "source": [
    "def get_page(url):\n",
    "    page = requests.get(url)\n",
    "    tree = html.fromstring(page.content)\n",
    "    return tree"
   ]
  },
  {
   "cell_type": "code",
   "execution_count": 10,
   "metadata": {},
   "outputs": [],
   "source": [
    "def get_by_xpath_and_clean(tree, xpath, i=0):\n",
    "    \"\"\"\"\"\"\n",
    "    try:\n",
    "        if i=='join':\n",
    "            text = tree.xpath(xpath)\n",
    "            text = re.sub(r'[\\n\\t\\xa0]', '', ' '.join(text)).strip()\n",
    "            return text\n",
    "        else:\n",
    "            text = tree.xpath(xpath)[i]\n",
    "            text = re.sub(r'[\\n\\t\\xa0]', '', text).strip()\n",
    "            return text\n",
    "    except:\n",
    "        return None"
   ]
  },
  {
   "cell_type": "code",
   "execution_count": 59,
   "metadata": {},
   "outputs": [],
   "source": [
    "\n",
    "cookies = {\n",
    "    'wday_vps_cookie': '2468753930.1075.0000',\n",
    "    'timezoneOffset': '360',\n",
    "    'PLAY_SESSION': '9bbdb5aae9e9ccbc8f6e28b53421d4f30c05a554-paho_pSessionId=q6f78sgg8ajpos3jrd23k9r04n&instance=wd5prvps0006f',\n",
    "    'enablePrivacyTracking': 'false',\n",
    "    'wd-browser-id': 'c4533476-ce87-485c-a3f5-e94f9922f91a',\n",
    "    'CALYPSO_CSRF_TOKEN': 'eaa62170-06f9-41c6-a714-ca05b831ba12',\n",
    "    'TS014c1515': '018b6354fe6f22757e88391185114b66fb09e9ca756305a14702d314206334a1d49fb870cd87e2e5ea8f7fbbfdcabba57be2cdf5c8',\n",
    "}\n",
    "\n",
    "headers = {\n",
    "    'Accept': 'application/json',\n",
    "    'Accept-Language': 'en-US',\n",
    "    'Connection': 'keep-alive',\n",
    "    'Content-Type': 'application/json',\n",
    "    # 'Cookie': 'wday_vps_cookie=2468753930.1075.0000; timezoneOffset=360; PLAY_SESSION=9bbdb5aae9e9ccbc8f6e28b53421d4f30c05a554-paho_pSessionId=q6f78sgg8ajpos3jrd23k9r04n&instance=wd5prvps0006f; enablePrivacyTracking=false; wd-browser-id=c4533476-ce87-485c-a3f5-e94f9922f91a; CALYPSO_CSRF_TOKEN=eaa62170-06f9-41c6-a714-ca05b831ba12; TS014c1515=018b6354fe6f22757e88391185114b66fb09e9ca756305a14702d314206334a1d49fb870cd87e2e5ea8f7fbbfdcabba57be2cdf5c8',\n",
    "    'Origin': 'https://paho.wd5.myworkdayjobs.com',\n",
    "    'Referer': 'https://paho.wd5.myworkdayjobs.com/en-US/pahocareers',\n",
    "    'Sec-Fetch-Dest': 'empty',\n",
    "    'Sec-Fetch-Mode': 'cors',\n",
    "    'Sec-Fetch-Site': 'same-origin',\n",
    "    'User-Agent': 'Mozilla/5.0 (Windows NT 10.0; Win64; x64) AppleWebKit/537.36 (KHTML, like Gecko) Chrome/111.0.0.0 Safari/537.36',\n",
    "    'X-CALYPSO-CSRF-TOKEN': 'eaa62170-06f9-41c6-a714-ca05b831ba12',\n",
    "    'sec-ch-ua': '\"Google Chrome\";v=\"111\", \"Not(A:Brand\";v=\"8\", \"Chromium\";v=\"111\"',\n",
    "    'sec-ch-ua-mobile': '?0',\n",
    "    'sec-ch-ua-platform': '\"Windows\"',\n",
    "}\n",
    "\n",
    "json_data = {\n",
    "    'appliedFacets': {},\n",
    "    'limit': 20,\n",
    "    'offset': 0,\n",
    "    'searchText': '',\n",
    "}\n",
    "\n",
    "response = requests.post(\n",
    "    'https://paho.wd5.myworkdayjobs.com/wday/cxs/paho/pahocareers/jobs',\n",
    "    headers=headers,\n",
    "    json=json_data,\n",
    ")\n"
   ]
  },
  {
   "cell_type": "code",
   "execution_count": 60,
   "metadata": {},
   "outputs": [],
   "source": [
    "res = response.json()"
   ]
  },
  {
   "cell_type": "code",
   "execution_count": 61,
   "metadata": {},
   "outputs": [],
   "source": [
    "jobs = res['jobPostings']"
   ]
  },
  {
   "cell_type": "code",
   "execution_count": null,
   "metadata": {},
   "outputs": [],
   "source": [
    "jobs"
   ]
  },
  {
   "cell_type": "code",
   "execution_count": 63,
   "metadata": {},
   "outputs": [],
   "source": [
    "job = jobs[0]"
   ]
  },
  {
   "cell_type": "code",
   "execution_count": 64,
   "metadata": {},
   "outputs": [
    {
     "data": {
      "text/plain": [
       "{'title': 'PAHO Consultant - Lab Specialist – Influenza Team',\n",
       " 'externalPath': '/job/Off-Site/PAHO-Consultant---Lab-Specialist---Influenza-Team_Req-03092-1',\n",
       " 'locationsText': 'Off Site',\n",
       " 'postedOn': 'Posted Today',\n",
       " 'bulletFields': ['Req-03092']}"
      ]
     },
     "execution_count": 64,
     "metadata": {},
     "output_type": "execute_result"
    }
   ],
   "source": [
    "job"
   ]
  },
  {
   "cell_type": "code",
   "execution_count": 70,
   "metadata": {},
   "outputs": [
    {
     "data": {
      "text/plain": [
       "'PAHO Consultant - Lab Specialist – Influenza Team'"
      ]
     },
     "execution_count": 70,
     "metadata": {},
     "output_type": "execute_result"
    }
   ],
   "source": [
    "job['title']"
   ]
  },
  {
   "cell_type": "code",
   "execution_count": 71,
   "metadata": {},
   "outputs": [
    {
     "data": {
      "text/plain": [
       "'Off Site'"
      ]
     },
     "execution_count": 71,
     "metadata": {},
     "output_type": "execute_result"
    }
   ],
   "source": [
    "job['locationsText']"
   ]
  },
  {
   "cell_type": "code",
   "execution_count": 72,
   "metadata": {},
   "outputs": [
    {
     "data": {
      "text/plain": [
       "['Req-03092']"
      ]
     },
     "execution_count": 72,
     "metadata": {},
     "output_type": "execute_result"
    }
   ],
   "source": [
    "job['bulletFields']"
   ]
  },
  {
   "cell_type": "code",
   "execution_count": 84,
   "metadata": {},
   "outputs": [
    {
     "data": {
      "text/plain": [
       "'https://paho.wd5.myworkdayjobs.com/en-US/pahocareers/details/PAHO-Consultant---Lab-Specialist---Influenza-Team_Req-03092-1'"
      ]
     },
     "execution_count": 84,
     "metadata": {},
     "output_type": "execute_result"
    }
   ],
   "source": [
    "detail_url = main_url + '/details/' +job['externalPath'].rsplit('/', 1)[1]\n",
    "detail_url"
   ]
  },
  {
   "cell_type": "code",
   "execution_count": 80,
   "metadata": {},
   "outputs": [
    {
     "data": {
      "text/plain": [
       "'https://paho.wd5.myworkdayjobs.com/wday/cxs/paho/pahocareers/job/Off-Site/PAHO-Consultant---Lab-Specialist---Influenza-Team_Req-03092-1'"
      ]
     },
     "execution_count": 80,
     "metadata": {},
     "output_type": "execute_result"
    }
   ],
   "source": [
    "json_detail_url = 'https://paho.wd5.myworkdayjobs.com/wday/cxs/paho/pahocareers' + job['externalPath']\n",
    "json_detail_url"
   ]
  },
  {
   "attachments": {},
   "cell_type": "markdown",
   "metadata": {},
   "source": [
    "#detail"
   ]
  },
  {
   "cell_type": "code",
   "execution_count": 68,
   "metadata": {},
   "outputs": [],
   "source": [
    "headers = {\n",
    "    'Accept': 'application/json',\n",
    "    'Accept-Language': 'en-US',\n",
    "    'Connection': 'keep-alive',\n",
    "    'Content-Type': 'application/x-www-form-urlencoded',\n",
    "    # 'Cookie': 'wday_vps_cookie=2468753930.1075.0000; timezoneOffset=360; PLAY_SESSION=9bbdb5aae9e9ccbc8f6e28b53421d4f30c05a554-paho_pSessionId=q6f78sgg8ajpos3jrd23k9r04n&instance=wd5prvps0006f; enablePrivacyTracking=false; wd-browser-id=1248b7b1-89a2-4e63-af0d-0d52436ee61e; CALYPSO_CSRF_TOKEN=13c1a9df-2901-4735-899a-d7fa812eb92d; TS014c1515=018b6354feaa5b28fb929e208d509e5813066a6117120ca00e77ec3f585c66e1977cd3e23cd72bfa07773c03898549fea9b9dc28f5',\n",
    "    'Referer': 'https://paho.wd5.myworkdayjobs.com/en-US/pahocareers/details/PAHO-Consultant---Lab-Specialist---Influenza-Team_Req-03092-1',\n",
    "    'Sec-Fetch-Dest': 'empty',\n",
    "    'Sec-Fetch-Mode': 'cors',\n",
    "    'Sec-Fetch-Site': 'same-origin',\n",
    "    'User-Agent': 'Mozilla/5.0 (Windows NT 10.0; Win64; x64) AppleWebKit/537.36 (KHTML, like Gecko) Chrome/111.0.0.0 Safari/537.36',\n",
    "    'X-CALYPSO-CSRF-TOKEN': 'eaa62170-06f9-41c6-a714-ca05b831ba12',\n",
    "    'sec-ch-ua': '\"Google Chrome\";v=\"111\", \"Not(A:Brand\";v=\"8\", \"Chromium\";v=\"111\"',\n",
    "    'sec-ch-ua-mobile': '?0',\n",
    "    'sec-ch-ua-platform': '\"Windows\"',\n",
    "}\n",
    "\n",
    "detail_page = requests.get(\n",
    "    json_detail_url,\n",
    "    headers=headers,\n",
    ")"
   ]
  },
  {
   "cell_type": "code",
   "execution_count": 73,
   "metadata": {},
   "outputs": [],
   "source": [
    "detail = detail_page.json()"
   ]
  },
  {
   "cell_type": "code",
   "execution_count": null,
   "metadata": {},
   "outputs": [],
   "source": [
    "detail"
   ]
  },
  {
   "cell_type": "code",
   "execution_count": 77,
   "metadata": {},
   "outputs": [
    {
     "data": {
      "text/plain": [
       "'2023-03-16'"
      ]
     },
     "execution_count": 77,
     "metadata": {},
     "output_type": "execute_result"
    }
   ],
   "source": [
    "# start date\n",
    "detail['jobPostingInfo']['startDate']"
   ]
  },
  {
   "cell_type": "code",
   "execution_count": 86,
   "metadata": {},
   "outputs": [
    {
     "data": {
      "text/plain": [
       "'United States of America'"
      ]
     },
     "execution_count": 86,
     "metadata": {},
     "output_type": "execute_result"
    }
   ],
   "source": [
    "#location\n",
    "detail['jobPostingInfo']['country']['descriptor']"
   ]
  },
  {
   "cell_type": "code",
   "execution_count": 99,
   "metadata": {},
   "outputs": [
    {
     "data": {
      "text/plain": [
       "'March 29, 2023, 11:59 PM Eastern Time'"
      ]
     },
     "execution_count": 99,
     "metadata": {},
     "output_type": "execute_result"
    }
   ],
   "source": [
    "#closing date\n",
    "detail['jobPostingInfo']['jobDescription'].split(\"<p></p><p><b>\")[4].split(\"</b></p>\")[1]"
   ]
  },
  {
   "cell_type": "code",
   "execution_count": 102,
   "metadata": {},
   "outputs": [
    {
     "data": {
      "text/plain": [
       "'<p><b>OBJECTIVE OF THE OFFICE/DEPARTMENT</b></p><p></p><p><b>This is a requisition for employment at the Pan American Health Organization (PAHO)/Regional Office of the World Health Organization (WHO)</b></p><p></p><p><b>Contractual Agreement:</b></p>Non-Staff - International PAHO Consultant<p></p><p><b>Job Posting:</b></p>March 14, 2023<p></p><p><b>Closing Date:</b></p>March 29, 2023, 11:59 PM Eastern Time<p></p><p><b>Primary Location:</b></p>Off Site<p></p><p><b>Organization:</b></p>IHM Infectious Hazard Management<p></p><p><b>Schedule:</b></p>Full time<p></p><p><b>PURPOSE OF CONSULTANCY</b></p>A PAHO Consultant may be engaged on a full-time or part-time basis for the purpose of performing a specific time-limited piece of work for PAHO in a technical advisory capacity or consultative capacity. Examples of the type of work for which a consultant contract should normally be issued are: analysis and advice on public health, medical, scientific or other health and related technical issues in countries, including the analysis of the national health situation, evaluation of national health programs, the establishment of local alliances and networks; direct technical assistance to address a particular health issue in countries (including disease outbreaks, response to emergencies, specialized training, research, development of policies, norms and protocols, etc.<br><br>Internationally-hired consultant: An internationally-hired consultant is a person who is not living or residing in the country and who has been hired from outside the country where the work is to be performed. The work performed by internationally-hired consultants is regional or subregional in scope (not country specific). An international consultant will normally be hired for periods not exceeding a continuous duration of up to one (1) year, renewable for a second period of up to one (1) year, for the same tasks as described in the ToRs, within the same work plan and/or project. Upon completion of a series of continuous contracts that equal 24 months in duration.<br><br>Pay Band B-Middle level is applicable cases where the work is at a level equivalent to work at the P.3/P.4 levels. This pay band should be used for work that requires a number of years of first-hand technical experience in the subject matter area of work<br><br>….Hiring managers will be responsible for reviewing the consultant contract and for ensuring that:   the services to be rendered match the criteria of the type of services to be provided by the consultant pursuant to the Consultant Policy; and those decisions on contracting and all other matters of substance are taken in accordance with policy provisions…<p></p><p><b>DESCRIPTION OF DUTIES:</b></p><p><b>Objectives of the Department</b></p><p>The objective of the Health Emergencies Department (PHE) of the Pan American Health Organization (PAHO/WHO) is to increase health sector resilience to emergencies and disasters. PHE assists Member States to strengthen the health sector’s capacities in prevention, risk reduction, preparedness, surveillance, response, and early recovery for emergencies and disasters related to any hazards (natural, man-made, biological, chemical, radiological and others) and, when national capacities are overwhelmed, to lead and coordinate the international health response to contain disasters, including outbreaks, and to provide effective relief and recovery to affected populations. PHE is responsible for ensuring the implementation and updating of the PAHO/WHO Institutional Emergency and Disaster Response Policy.</p><p></p><p><b>Organizational context</b></p><p>The incumbent is a member of PHE’s IHM Unit, which supports countries in the surveillance, prevention and control of high-risk diseases of pandemic and epidemic potential through forecasting, characterization of diseases/infectious risks and development of evidence-based strategies to predict, prevent, detect and respond to infectious hazards.</p><p></p><p><b>Responsibilities</b></p><p>Under the general guidance of the Epidemic-prone Diseases Adviser ai, and the direct supervision of the Influenza Laboratory Consultant, the incumbent is responsible for, but not limited to, the following assigned duties:</p><ul><li>To develop the plan to support the multiplex implementation pilot in countries;</li><li>To provide technical assistance and support to integrate the multiplex strategy into the laboratory surveillance protocols in countries;</li><li>To provide training on the Influenza/Covid-19 multiplex PCR to countries;</li><li>To provide technical assistance to support development of a regional respiratory virus guidance and documents;</li><li>To travel once a month in mission to provide support to countries;</li><li>Perform other related duties, as assigned.</li></ul><p></p><p></p><p><b>Location</b></p><p>The duty station will depend on the location of the selected candidate. International travel may be required.</p><p></p><p><b>Education requirements (Qualifications)</b></p><p><b>Essential: </b>A bachelor’s degree in a health-related field from a recognized university.</p><p><b>Desirable: </b>A Master or PhD degree in Microbiology or Laboratory Sciences would be an asset.</p><p></p><p><b>Experience requirements</b></p><p><b>Essential: </b>Five years of Laboratory work experience.</p><p><b>Desirable: </b>Seven years of laboratory work experience.</p><p></p><p><b>Languages</b></p><p>Very good knowledge of <b>English and Spanish</b>.</p><p></p><p><b>Expected contract duration </b></p><p>A full time commitment is required for this position. An initial six-month offer may be made; extension up to two years based on performance and availability of funds.</p><p></p><p><b>The application must include</b></p><ul><li>Cover letter and most up to date CV</li></ul><p></p><p><b>How To apply</b></p><p>Above required documentation must be submitted by 28 March 2023.</p><p></p><p></p><p><b>The hiring of the selected candidate will be subject to the presentation of the following documents:</b></p><ul><li>Copy of diploma and / or certificate (s)</li><li>Three letters of professional references that include the full name of the contact person, telephone number and address or e-mail.</li></ul><p></p><p><b>'"
      ]
     },
     "execution_count": 102,
     "metadata": {},
     "output_type": "execute_result"
    }
   ],
   "source": [
    "detail['jobPostingInfo']['jobDescription'].split(\"ADDITIONAL INFORMATION\")[0]"
   ]
  },
  {
   "cell_type": "code",
   "execution_count": null,
   "metadata": {},
   "outputs": [],
   "source": []
  },
  {
   "cell_type": "code",
   "execution_count": null,
   "metadata": {},
   "outputs": [],
   "source": []
  },
  {
   "cell_type": "code",
   "execution_count": null,
   "metadata": {},
   "outputs": [],
   "source": []
  },
  {
   "cell_type": "code",
   "execution_count": null,
   "metadata": {},
   "outputs": [],
   "source": []
  },
  {
   "cell_type": "code",
   "execution_count": 57,
   "metadata": {},
   "outputs": [
    {
     "name": "stdout",
     "output_type": "stream",
     "text": [
      "nueva oportunidad encontrada\n",
      "nueva oportunidad encontrada\n",
      "nueva oportunidad encontrada\n",
      "nueva oportunidad encontrada\n"
     ]
    }
   ],
   "source": [
    "for i, job in enumerate(jobs):\n",
    "    #get the url of detail\n",
    "    detail_url = 'https://www.oecd.org' + get_by_xpath_and_clean(job, '(./td[4]/p//a)[1]/@href')\n",
    "    \n",
    "    #looks if the detail url is already in the dataset\n",
    "    if df['url_detail_id'][df['url_detail_id']==detail_url].any():\n",
    "        print('this job is already in the dataset')\n",
    "        continue\n",
    "    #if not  exist, get the detail\n",
    "    else:\n",
    "        print('nueva oportunidad encontrada')\n",
    "        #type RFQ\n",
    "        type_RFQ = get_by_xpath_and_clean(job, './td[2]/text()')\n",
    "        #get the title\n",
    "        title = get_by_xpath_and_clean(job, './td[4]/descendant::text()', i='join')\n",
    "        #get the location (type RFQ)\n",
    "        location = get_by_xpath_and_clean(job, './td[2]/text()')\n",
    "        #Opening Date:\n",
    "        opening_date = get_by_xpath_and_clean(job, './td[5]/text()')\n",
    "        #Closing Date\n",
    "        closing_date = get_by_xpath_and_clean(job, './td[6]/text()', i='join')\n",
    "        \n",
    "        #find the body of the job and look for the words_to_look to appear once at least\n",
    "        is_alert = False\n",
    "\n",
    "        text_for_alert = title.strip().lower()\n",
    "        if any(word in text_for_alert for word in words_to_look):\n",
    "            is_alert = True\n",
    "        #add the new job to the dataset\n",
    "        df = df.append({'url_detail_id': detail_url, 'scrapped_day': today,  'title': title, \n",
    "                'opening_date': opening_date, 'closing_date': closing_date,'location': location,\n",
    "                'is_alert': is_alert, 'source': source}, ignore_index=True)"
   ]
  },
  {
   "cell_type": "code",
   "execution_count": 58,
   "metadata": {},
   "outputs": [
    {
     "data": {
      "text/html": [
       "<div>\n",
       "<style scoped>\n",
       "    .dataframe tbody tr th:only-of-type {\n",
       "        vertical-align: middle;\n",
       "    }\n",
       "\n",
       "    .dataframe tbody tr th {\n",
       "        vertical-align: top;\n",
       "    }\n",
       "\n",
       "    .dataframe thead th {\n",
       "        text-align: right;\n",
       "    }\n",
       "</style>\n",
       "<table border=\"1\" class=\"dataframe\">\n",
       "  <thead>\n",
       "    <tr style=\"text-align: right;\">\n",
       "      <th></th>\n",
       "      <th>url_detail_id</th>\n",
       "      <th>scrapped_day</th>\n",
       "      <th>title</th>\n",
       "      <th>opening_date</th>\n",
       "      <th>closing_date</th>\n",
       "      <th>source</th>\n",
       "      <th>is_alert</th>\n",
       "      <th>location</th>\n",
       "    </tr>\n",
       "  </thead>\n",
       "  <tbody>\n",
       "    <tr>\n",
       "      <th>0</th>\n",
       "      <td>https://www.oecd.org/callsfortenders/RFQ_646_W...</td>\n",
       "      <td>14/03/2023</td>\n",
       "      <td>Maintenance of the canopy glass ceiling Contac...</td>\n",
       "      <td>06.03.2023</td>\n",
       "      <td>30.03.2023 2.00 pm (Paris time)</td>\n",
       "      <td>OECD</td>\n",
       "      <td>False</td>\n",
       "      <td>RFQ_646</td>\n",
       "    </tr>\n",
       "    <tr>\n",
       "      <th>1</th>\n",
       "      <td>https://www.oecd.org/callsfortenders/RFQ_645_W...</td>\n",
       "      <td>14/03/2023</td>\n",
       "      <td>Fire Safety Systems Coordination Contact: kevi...</td>\n",
       "      <td>06.03.2023</td>\n",
       "      <td>30.03.2023 2.00 pm (Paris time)</td>\n",
       "      <td>OECD</td>\n",
       "      <td>False</td>\n",
       "      <td>RFQ_645</td>\n",
       "    </tr>\n",
       "    <tr>\n",
       "      <th>2</th>\n",
       "      <td>https://www.oecd.org/callsfortenders/RFQ_644_W...</td>\n",
       "      <td>14/03/2023</td>\n",
       "      <td>Audio Visual services Contact:  kevin.sejean@o...</td>\n",
       "      <td>06.03.2023</td>\n",
       "      <td>30.03.2023 2.00 pm (Paris time)</td>\n",
       "      <td>OECD</td>\n",
       "      <td>False</td>\n",
       "      <td>RFQ_644</td>\n",
       "    </tr>\n",
       "    <tr>\n",
       "      <th>3</th>\n",
       "      <td>https://www.oecd.org/callsfortenders/RFI.pdf</td>\n",
       "      <td>14/03/2023</td>\n",
       "      <td>Request for Information on the Common Transmis...</td>\n",
       "      <td>06.03.2023</td>\n",
       "      <td>30.03.2023 2.00 pm (Paris time)</td>\n",
       "      <td>OECD</td>\n",
       "      <td>False</td>\n",
       "      <td></td>\n",
       "    </tr>\n",
       "  </tbody>\n",
       "</table>\n",
       "</div>"
      ],
      "text/plain": [
       "                                       url_detail_id scrapped_day  \\\n",
       "0  https://www.oecd.org/callsfortenders/RFQ_646_W...   14/03/2023   \n",
       "1  https://www.oecd.org/callsfortenders/RFQ_645_W...   14/03/2023   \n",
       "2  https://www.oecd.org/callsfortenders/RFQ_644_W...   14/03/2023   \n",
       "3       https://www.oecd.org/callsfortenders/RFI.pdf   14/03/2023   \n",
       "\n",
       "                                               title opening_date  \\\n",
       "0  Maintenance of the canopy glass ceiling Contac...   06.03.2023   \n",
       "1  Fire Safety Systems Coordination Contact: kevi...   06.03.2023   \n",
       "2  Audio Visual services Contact:  kevin.sejean@o...   06.03.2023   \n",
       "3  Request for Information on the Common Transmis...   06.03.2023   \n",
       "\n",
       "                      closing_date source is_alert location  \n",
       "0  30.03.2023 2.00 pm (Paris time)   OECD    False  RFQ_646  \n",
       "1  30.03.2023 2.00 pm (Paris time)   OECD    False  RFQ_645  \n",
       "2  30.03.2023 2.00 pm (Paris time)   OECD    False  RFQ_644  \n",
       "3  30.03.2023 2.00 pm (Paris time)   OECD    False           "
      ]
     },
     "execution_count": 58,
     "metadata": {},
     "output_type": "execute_result"
    }
   ],
   "source": [
    "df"
   ]
  },
  {
   "cell_type": "code",
   "execution_count": null,
   "metadata": {},
   "outputs": [],
   "source": []
  },
  {
   "cell_type": "code",
   "execution_count": 27,
   "metadata": {},
   "outputs": [
    {
     "data": {
      "text/plain": [
       "['Call for Tenders']"
      ]
     },
     "execution_count": 27,
     "metadata": {},
     "output_type": "execute_result"
    }
   ],
   "source": [
    "#Type RFQ\n",
    "response.xpath('//tbody/tr[2]/td[1]/text()')"
   ]
  },
  {
   "cell_type": "code",
   "execution_count": 35,
   "metadata": {},
   "outputs": [
    {
     "data": {
      "text/plain": [
       "['RFQ_646']"
      ]
     },
     "execution_count": 35,
     "metadata": {},
     "output_type": "execute_result"
    }
   ],
   "source": [
    "#rfq number\n",
    "response.xpath('//tbody/tr[2]/td[2]/text()')"
   ]
  },
  {
   "cell_type": "code",
   "execution_count": 42,
   "metadata": {},
   "outputs": [
    {
     "data": {
      "text/plain": [
       "['/callsfortenders/RFQ_646_WEB.pdf']"
      ]
     },
     "execution_count": 42,
     "metadata": {},
     "output_type": "execute_result"
    }
   ],
   "source": [
    "#detail_url //tbody/tr/td/p[1]//a[1]\n",
    "response.xpath('(//tbody/tr[2]/td[4]/p//a)[1]/@href')"
   ]
  },
  {
   "cell_type": "code",
   "execution_count": 26,
   "metadata": {},
   "outputs": [
    {
     "data": {
      "text/plain": [
       "['\\n',\n",
       " 'Maintenance of the canopy glass ceiling',\n",
       " 'Contact:\\xa0',\n",
       " 'kevin.sejean@oecd.org',\n",
       " '\\n']"
      ]
     },
     "execution_count": 26,
     "metadata": {},
     "output_type": "execute_result"
    }
   ],
   "source": [
    "#offer\n",
    "response.xpath('//tbody/tr[2]/td[4]/descendant::text()')"
   ]
  },
  {
   "cell_type": "code",
   "execution_count": 54,
   "metadata": {},
   "outputs": [
    {
     "data": {
      "text/plain": [
       "['06.03.2023\\xa0']"
      ]
     },
     "execution_count": 54,
     "metadata": {},
     "output_type": "execute_result"
    }
   ],
   "source": [
    "#Launched on \n",
    "response.xpath('//tbody/tr[2]/td[5]/text()')"
   ]
  },
  {
   "cell_type": "code",
   "execution_count": 24,
   "metadata": {},
   "outputs": [
    {
     "data": {
      "text/plain": [
       "['30.03.2023', '2.00 pm (Paris time)\\xa0\\xa0']"
      ]
     },
     "execution_count": 24,
     "metadata": {},
     "output_type": "execute_result"
    }
   ],
   "source": [
    "#Deadline\n",
    "response.xpath('//tbody/tr[2]/td[6]/text()')"
   ]
  }
 ],
 "metadata": {
  "kernelspec": {
   "display_name": "Python 3",
   "language": "python",
   "name": "python3"
  },
  "language_info": {
   "codemirror_mode": {
    "name": "ipython",
    "version": 3
   },
   "file_extension": ".py",
   "mimetype": "text/x-python",
   "name": "python",
   "nbconvert_exporter": "python",
   "pygments_lexer": "ipython3",
   "version": "3.9.0"
  },
  "orig_nbformat": 4
 },
 "nbformat": 4,
 "nbformat_minor": 2
}
