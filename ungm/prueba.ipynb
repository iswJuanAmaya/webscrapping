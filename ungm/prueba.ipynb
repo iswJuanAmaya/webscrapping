{
 "cells": [
  {
   "cell_type": "code",
   "execution_count": 1,
   "metadata": {},
   "outputs": [],
   "source": [
    "import requests\n",
    "from lxml import html\n",
    "import pandas as pd\n",
    "from datetime import date\n",
    "import re"
   ]
  },
  {
   "cell_type": "code",
   "execution_count": 2,
   "metadata": {},
   "outputs": [],
   "source": [
    "words_to_look = [\n",
    "        'salud',\n",
    "        'farmacoeconomía',\n",
    "        'medicamentos',\n",
    "        'health',\n",
    "        'pharmacoeconomics',\n",
    "        'medicines',\n",
    "        'santé ',\n",
    "        'pharmacoéconomie',\n",
    "        'médicaments',\n",
    "        'saude',\n",
    "        'farmacoeconomia',\n",
    "        'medicamentos'\n",
    "    ]\n",
    "\n",
    "today = date.today().strftime(\"%d/%m/%Y\")\n",
    "source = 'ungm'\n",
    "file_name = './ungm_ops.csv'\n",
    "main_url = 'https://www.ungm.org/Public/Notice'"
   ]
  },
  {
   "attachments": {},
   "cell_type": "markdown",
   "metadata": {},
   "source": [
    "### Generacion de csv"
   ]
  },
  {
   "cell_type": "code",
   "execution_count": 3,
   "metadata": {},
   "outputs": [],
   "source": [
    "df = pd.DataFrame(columns=['url_detail_id','scrapped_day','title','opening_date',\n",
    "                           'closing_date','source','is_alert','location'])"
   ]
  },
  {
   "cell_type": "code",
   "execution_count": 4,
   "metadata": {},
   "outputs": [],
   "source": [
    "df.to_csv(file_name, index=False, encoding='utf-8', header=True)"
   ]
  },
  {
   "cell_type": "code",
   "execution_count": 5,
   "metadata": {},
   "outputs": [],
   "source": [
    "del df"
   ]
  },
  {
   "attachments": {},
   "cell_type": "markdown",
   "metadata": {},
   "source": [
    "### probando"
   ]
  },
  {
   "cell_type": "code",
   "execution_count": 6,
   "metadata": {},
   "outputs": [],
   "source": [
    "#lee la tabla de la pagina\n",
    "df = pd.read_csv(file_name, encoding='utf-8')"
   ]
  },
  {
   "cell_type": "code",
   "execution_count": 7,
   "metadata": {},
   "outputs": [
    {
     "data": {
      "text/html": [
       "<div>\n",
       "<style scoped>\n",
       "    .dataframe tbody tr th:only-of-type {\n",
       "        vertical-align: middle;\n",
       "    }\n",
       "\n",
       "    .dataframe tbody tr th {\n",
       "        vertical-align: top;\n",
       "    }\n",
       "\n",
       "    .dataframe thead th {\n",
       "        text-align: right;\n",
       "    }\n",
       "</style>\n",
       "<table border=\"1\" class=\"dataframe\">\n",
       "  <thead>\n",
       "    <tr style=\"text-align: right;\">\n",
       "      <th></th>\n",
       "      <th>url_detail_id</th>\n",
       "      <th>scrapped_day</th>\n",
       "      <th>title</th>\n",
       "      <th>opening_date</th>\n",
       "      <th>closing_date</th>\n",
       "      <th>source</th>\n",
       "      <th>is_alert</th>\n",
       "      <th>location</th>\n",
       "    </tr>\n",
       "  </thead>\n",
       "  <tbody>\n",
       "  </tbody>\n",
       "</table>\n",
       "</div>"
      ],
      "text/plain": [
       "Empty DataFrame\n",
       "Columns: [url_detail_id, scrapped_day, title, opening_date, closing_date, source, is_alert, location]\n",
       "Index: []"
      ]
     },
     "execution_count": 7,
     "metadata": {},
     "output_type": "execute_result"
    }
   ],
   "source": [
    "df"
   ]
  },
  {
   "cell_type": "code",
   "execution_count": 8,
   "metadata": {},
   "outputs": [],
   "source": [
    "def get_page(url):\n",
    "    page = requests.get(url)\n",
    "    tree = html.fromstring(page.content)\n",
    "    return tree"
   ]
  },
  {
   "cell_type": "code",
   "execution_count": 9,
   "metadata": {},
   "outputs": [],
   "source": [
    "def get_by_xpath_and_clean(tree, xpath, i=0):\n",
    "    \"\"\"\"\"\"\n",
    "    try:\n",
    "        if i=='join':\n",
    "            text = tree.xpath(xpath)\n",
    "            text = re.sub(r'[\\n\\t\\xa0]', '', ' '.join(text)).strip()\n",
    "            return text\n",
    "        else:\n",
    "            text = tree.xpath(xpath)[i]\n",
    "            text = re.sub(r'[\\n\\t\\xa0]', '', text).strip()\n",
    "            return text\n",
    "    except:\n",
    "        return None"
   ]
  },
  {
   "cell_type": "code",
   "execution_count": 10,
   "metadata": {},
   "outputs": [],
   "source": [
    "\n",
    "response = get_page(main_url)"
   ]
  },
  {
   "cell_type": "code",
   "execution_count": 59,
   "metadata": {},
   "outputs": [
    {
     "data": {
      "text/plain": [
       "'18-Mar-2023'"
      ]
     },
     "execution_count": 59,
     "metadata": {},
     "output_type": "execute_result"
    }
   ],
   "source": [
    "#get the today date in format \"15-Mar-2023\"\n",
    "today = date.today().strftime(\"%d-%b-%Y\")\n",
    "today"
   ]
  },
  {
   "cell_type": "code",
   "execution_count": 66,
   "metadata": {},
   "outputs": [],
   "source": [
    "headers = {\n",
    "    'authority': 'www.ungm.org',\n",
    "    'accept': '*/*',\n",
    "    'accept-language': 'es-419,es;q=0.9,es-MX;q=0.8,en;q=0.7',\n",
    "    'content-type': 'application/json',\n",
    "    # 'cookie': 'UNGM.UserPreferredLanguage=en; _ga=GA1.2.278469780.1678230703; _gid=GA1.2.548688420.1679160053; GCLB=CNjEvo3msJiMxQE',\n",
    "    'origin': 'https://www.ungm.org',\n",
    "    'referer': 'https://www.ungm.org/Public/Notice',\n",
    "    'sec-ch-ua': '\"Google Chrome\";v=\"111\", \"Not(A:Brand\";v=\"8\", \"Chromium\";v=\"111\"',\n",
    "    'sec-ch-ua-mobile': '?0',\n",
    "    'sec-ch-ua-platform': '\"Windows\"',\n",
    "    'sec-fetch-dest': 'empty',\n",
    "    'sec-fetch-mode': 'cors',\n",
    "    'sec-fetch-site': 'same-origin',\n",
    "    'user-agent': 'Mozilla/5.0 (Windows NT 10.0; Win64; x64) AppleWebKit/537.36 (KHTML, like Gecko) Chrome/111.0.0.0 Safari/537.36',\n",
    "    'x-requested-with': 'XMLHttpRequest',\n",
    "}\n",
    "\n",
    "json_data = {\n",
    "    'PageIndex': 0,\n",
    "    'PageSize': 25,\n",
    "    'Title': '',\n",
    "    'Description': '',\n",
    "    'Reference': '',\n",
    "    'PublishedFrom': today,\n",
    "    'PublishedTo': today,\n",
    "    'DeadlineFrom': '',\n",
    "    'DeadlineTo': '',\n",
    "    'Countries': [],\n",
    "    'Agencies': [],\n",
    "    'UNSPSCs': [],\n",
    "    'NoticeTypes': [],\n",
    "    'SortField': 'DatePublished',\n",
    "    'SortAscending': False,\n",
    "    'isPicker': False,\n",
    "    'IsSustainable': False,\n",
    "    'NoticeDisplayType': None,\n",
    "    'NoticeSearchTotalLabelId': 'noticeSearchTotal',\n",
    "    'TypeOfCompetitions': [],\n",
    "}\n",
    "\n",
    "response = requests.post('https://www.ungm.org/Public/Notice/Search',  headers=headers, json=json_data)"
   ]
  },
  {
   "cell_type": "code",
   "execution_count": 69,
   "metadata": {},
   "outputs": [],
   "source": [
    "with open('aver.html', 'w', encoding='utf-8') as f:\n",
    "    f.write(response.text)"
   ]
  },
  {
   "cell_type": "code",
   "execution_count": 67,
   "metadata": {},
   "outputs": [],
   "source": [
    "tree = html.fromstring(response.content)"
   ]
  },
  {
   "cell_type": "code",
   "execution_count": 68,
   "metadata": {},
   "outputs": [
    {
     "data": {
      "text/plain": [
       "15"
      ]
     },
     "execution_count": 68,
     "metadata": {},
     "output_type": "execute_result"
    }
   ],
   "source": [
    "jobs = tree.xpath('//div[@role=\"row\"]')\n",
    "len(jobs)"
   ]
  },
  {
   "cell_type": "code",
   "execution_count": 50,
   "metadata": {},
   "outputs": [],
   "source": [
    "job = jobs[0]"
   ]
  },
  {
   "cell_type": "code",
   "execution_count": 49,
   "metadata": {},
   "outputs": [
    {
     "data": {
      "text/plain": [
       "'192182'"
      ]
     },
     "execution_count": 49,
     "metadata": {},
     "output_type": "execute_result"
    }
   ],
   "source": [
    "get_by_xpath_and_clean(job,'./@data-noticeid')"
   ]
  },
  {
   "cell_type": "code",
   "execution_count": 38,
   "metadata": {},
   "outputs": [
    {
     "data": {
      "text/plain": [
       "'Tender for Construction of Horizontal and Vertical Extension of Kawkab Battouf Schools Plus Supply and Installation of Solar Panels to Operate Two Water Wells-Beddawi Camp- North Area'"
      ]
     },
     "execution_count": 38,
     "metadata": {},
     "output_type": "execute_result"
    }
   ],
   "source": [
    "get_by_xpath_and_clean(job, './/span[@class=\"ungm-title ungm-title--small\"]/text()')"
   ]
  },
  {
   "cell_type": "code",
   "execution_count": 39,
   "metadata": {},
   "outputs": [
    {
     "data": {
      "text/plain": [
       "'20-Mar-2023 12:00 (GMT 2.00)'"
      ]
     },
     "execution_count": 39,
     "metadata": {},
     "output_type": "execute_result"
    }
   ],
   "source": [
    "get_by_xpath_and_clean(job, './/div[@data-description=\"Deadline\"]/span/text()')"
   ]
  },
  {
   "cell_type": "code",
   "execution_count": 40,
   "metadata": {},
   "outputs": [
    {
     "data": {
      "text/plain": [
       "'18-Mar-2023'"
      ]
     },
     "execution_count": 40,
     "metadata": {},
     "output_type": "execute_result"
    }
   ],
   "source": [
    "get_by_xpath_and_clean(job, './/div[@data-description=\"Deadline\"]/following-sibling::div/span/text()')"
   ]
  },
  {
   "cell_type": "code",
   "execution_count": 44,
   "metadata": {},
   "outputs": [
    {
     "data": {
      "text/plain": [
       "'Invitation to bid'"
      ]
     },
     "execution_count": 44,
     "metadata": {},
     "output_type": "execute_result"
    }
   ],
   "source": [
    "get_by_xpath_and_clean(job, './/div[@data-description=\"Deadline\"]/following-sibling::div[3]/span/label/text()')"
   ]
  },
  {
   "cell_type": "code",
   "execution_count": 45,
   "metadata": {},
   "outputs": [
    {
     "data": {
      "text/plain": [
       "'PLD/PJ/BC/23/004'"
      ]
     },
     "execution_count": 45,
     "metadata": {},
     "output_type": "execute_result"
    }
   ],
   "source": [
    "get_by_xpath_and_clean(job, './/div[@data-description=\"Reference\"]/span/text()')"
   ]
  },
  {
   "cell_type": "code",
   "execution_count": 47,
   "metadata": {},
   "outputs": [
    {
     "data": {
      "text/plain": [
       "'Lebanon'"
      ]
     },
     "execution_count": 47,
     "metadata": {},
     "output_type": "execute_result"
    }
   ],
   "source": [
    "get_by_xpath_and_clean(job, './/div[@data-description=\"Deadline\"]/following-sibling::div[5]/span/text()')"
   ]
  },
  {
   "cell_type": "code",
   "execution_count": 53,
   "metadata": {},
   "outputs": [
    {
     "name": "stdout",
     "output_type": "stream",
     "text": [
      "nueva oportunidad encontrada\n",
      "nueva oportunidad encontrada\n",
      "nueva oportunidad encontrada\n",
      "nueva oportunidad encontrada\n",
      "nueva oportunidad encontrada\n",
      "nueva oportunidad encontrada\n",
      "nueva oportunidad encontrada\n",
      "nueva oportunidad encontrada\n",
      "nueva oportunidad encontrada\n",
      "nueva oportunidad encontrada\n",
      "nueva oportunidad encontrada\n",
      "nueva oportunidad encontrada\n",
      "nueva oportunidad encontrada\n",
      "nueva oportunidad encontrada\n",
      "nueva oportunidad encontrada\n"
     ]
    }
   ],
   "source": [
    "for i, job in enumerate(jobs):\n",
    "    #get the url of detail\n",
    "    detail_url = main_url + '/' + get_by_xpath_and_clean(job,'./@data-noticeid')\n",
    "    \n",
    "    #looks if the detail url is already in the dataset\n",
    "    if df['url_detail_id'][df['url_detail_id']==detail_url].any():\n",
    "        print('this job is already in the dataset')\n",
    "        continue\n",
    "\n",
    "    #if not  exist, get the detail\n",
    "    else:\n",
    "        print('nueva oportunidad encontrada')\n",
    "        #type RFQ\n",
    "        reference = get_by_xpath_and_clean(job, './td[2]/text()')\n",
    "        #get the title\n",
    "        title = get_by_xpath_and_clean(job, './/span[@class=\"ungm-title ungm-title--small\"]/text()')\n",
    "        #type of opportunity\n",
    "        type_of_opportunity = get_by_xpath_and_clean(job, \n",
    "                    './/div[@data-description=\"Deadline\"]/following-sibling::div[3]/span/label/text()')\n",
    "        \n",
    "        #get the location (type RFQ)\n",
    "        location = get_by_xpath_and_clean(job, \n",
    "                        './/div[@data-description=\"Deadline\"]/following-sibling::div[5]/span/text()')\n",
    "        #Opening Date:\n",
    "        opening_date = get_by_xpath_and_clean(job, \n",
    "                            './/div[@data-description=\"Deadline\"]/following-sibling::div/span/text()')\n",
    "        #Closing Date\n",
    "        closing_date = get_by_xpath_and_clean(job, './/div[@data-description=\"Deadline\"]/span/text()')\n",
    "        \n",
    "        #find the body of the job and look for the words_to_look to appear once at least\n",
    "        is_alert = False\n",
    "\n",
    "        text_for_alert = title.strip().lower()\n",
    "        if any(word in text_for_alert for word in words_to_look):\n",
    "            is_alert = True\n",
    "        #add the new job to the dataset\n",
    "        df = df.append({'url_detail_id': detail_url, 'scrapped_day': today,  'title': title, \n",
    "                'opening_date': opening_date, 'closing_date': closing_date,'location': location,\n",
    "                'is_alert': is_alert, 'source': source}, ignore_index=True)"
   ]
  },
  {
   "cell_type": "code",
   "execution_count": 70,
   "metadata": {},
   "outputs": [
    {
     "data": {
      "text/html": [
       "<div>\n",
       "<style scoped>\n",
       "    .dataframe tbody tr th:only-of-type {\n",
       "        vertical-align: middle;\n",
       "    }\n",
       "\n",
       "    .dataframe tbody tr th {\n",
       "        vertical-align: top;\n",
       "    }\n",
       "\n",
       "    .dataframe thead th {\n",
       "        text-align: right;\n",
       "    }\n",
       "</style>\n",
       "<table border=\"1\" class=\"dataframe\">\n",
       "  <thead>\n",
       "    <tr style=\"text-align: right;\">\n",
       "      <th></th>\n",
       "      <th>url_detail_id</th>\n",
       "      <th>scrapped_day</th>\n",
       "      <th>title</th>\n",
       "      <th>opening_date</th>\n",
       "      <th>closing_date</th>\n",
       "      <th>source</th>\n",
       "      <th>is_alert</th>\n",
       "      <th>location</th>\n",
       "    </tr>\n",
       "  </thead>\n",
       "  <tbody>\n",
       "    <tr>\n",
       "      <th>25</th>\n",
       "      <td>https://www.ungm.org/Public/Notice/195176</td>\n",
       "      <td>18/03/2023</td>\n",
       "      <td>SDC-003-2023 Suministro de detectores acústico...</td>\n",
       "      <td>18-Mar-2023</td>\n",
       "      <td>31-Mar-2023 18:00 (GMT -5.00)</td>\n",
       "      <td>ungm</td>\n",
       "      <td>False</td>\n",
       "      <td>Mexico</td>\n",
       "    </tr>\n",
       "    <tr>\n",
       "      <th>26</th>\n",
       "      <td>https://www.ungm.org/Public/Notice/195178</td>\n",
       "      <td>18/03/2023</td>\n",
       "      <td>Cash for Work Through the Construction of Inta...</td>\n",
       "      <td>18-Mar-2023</td>\n",
       "      <td>02-Apr-2023 07:00 (GMT -5.00)</td>\n",
       "      <td>ungm</td>\n",
       "      <td>False</td>\n",
       "      <td>Afghanistan</td>\n",
       "    </tr>\n",
       "    <tr>\n",
       "      <th>27</th>\n",
       "      <td>https://www.ungm.org/Public/Notice/195179</td>\n",
       "      <td>18/03/2023</td>\n",
       "      <td>CONSULTANCY - TO DEVELOP POLICIES ON CHILD PRO...</td>\n",
       "      <td>18-Mar-2023</td>\n",
       "      <td>02-May-2023 10:00 (GMT -5.00)</td>\n",
       "      <td>ungm</td>\n",
       "      <td>False</td>\n",
       "      <td>Zimbabwe</td>\n",
       "    </tr>\n",
       "    <tr>\n",
       "      <th>28</th>\n",
       "      <td>https://www.ungm.org/Public/Notice/195180</td>\n",
       "      <td>18/03/2023</td>\n",
       "      <td>RFQ-122-23 Lot 2: Furnishing of Tikrit Univers...</td>\n",
       "      <td>18-Mar-2023</td>\n",
       "      <td>04-Apr-2023 00:00 (GMT 3.00)</td>\n",
       "      <td>ungm</td>\n",
       "      <td>False</td>\n",
       "      <td>Iraq</td>\n",
       "    </tr>\n",
       "    <tr>\n",
       "      <th>29</th>\n",
       "      <td>https://www.ungm.org/Public/Notice/195177</td>\n",
       "      <td>18/03/2023</td>\n",
       "      <td>Invitación a Licitar (ITB) Ref FAONI -06/2023-...</td>\n",
       "      <td>17-Mar-2023</td>\n",
       "      <td>30-Mar-2023 17:00 (GMT -6.00)</td>\n",
       "      <td>ungm</td>\n",
       "      <td>False</td>\n",
       "      <td>Nicaragua</td>\n",
       "    </tr>\n",
       "  </tbody>\n",
       "</table>\n",
       "</div>"
      ],
      "text/plain": [
       "                                url_detail_id scrapped_day  \\\n",
       "25  https://www.ungm.org/Public/Notice/195176   18/03/2023   \n",
       "26  https://www.ungm.org/Public/Notice/195178   18/03/2023   \n",
       "27  https://www.ungm.org/Public/Notice/195179   18/03/2023   \n",
       "28  https://www.ungm.org/Public/Notice/195180   18/03/2023   \n",
       "29  https://www.ungm.org/Public/Notice/195177   18/03/2023   \n",
       "\n",
       "                                                title opening_date  \\\n",
       "25  SDC-003-2023 Suministro de detectores acústico...  18-Mar-2023   \n",
       "26  Cash for Work Through the Construction of Inta...  18-Mar-2023   \n",
       "27  CONSULTANCY - TO DEVELOP POLICIES ON CHILD PRO...  18-Mar-2023   \n",
       "28  RFQ-122-23 Lot 2: Furnishing of Tikrit Univers...  18-Mar-2023   \n",
       "29  Invitación a Licitar (ITB) Ref FAONI -06/2023-...  17-Mar-2023   \n",
       "\n",
       "                     closing_date source is_alert     location  \n",
       "25  31-Mar-2023 18:00 (GMT -5.00)   ungm    False       Mexico  \n",
       "26  02-Apr-2023 07:00 (GMT -5.00)   ungm    False  Afghanistan  \n",
       "27  02-May-2023 10:00 (GMT -5.00)   ungm    False     Zimbabwe  \n",
       "28   04-Apr-2023 00:00 (GMT 3.00)   ungm    False         Iraq  \n",
       "29  30-Mar-2023 17:00 (GMT -6.00)   ungm    False    Nicaragua  "
      ]
     },
     "execution_count": 70,
     "metadata": {},
     "output_type": "execute_result"
    }
   ],
   "source": [
    "df.tail()"
   ]
  }
 ],
 "metadata": {
  "kernelspec": {
   "display_name": "Python 3",
   "language": "python",
   "name": "python3"
  },
  "language_info": {
   "codemirror_mode": {
    "name": "ipython",
    "version": 3
   },
   "file_extension": ".py",
   "mimetype": "text/x-python",
   "name": "python",
   "nbconvert_exporter": "python",
   "pygments_lexer": "ipython3",
   "version": "3.9.0"
  },
  "orig_nbformat": 4
 },
 "nbformat": 4,
 "nbformat_minor": 2
}
