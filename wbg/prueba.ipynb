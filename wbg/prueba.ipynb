{
 "cells": [
  {
   "cell_type": "code",
   "execution_count": 1,
   "metadata": {},
   "outputs": [],
   "source": [
    "import requests\n",
    "from lxml import html\n",
    "import pandas as pd\n",
    "from datetime import date\n",
    "import re"
   ]
  },
  {
   "cell_type": "code",
   "execution_count": 3,
   "metadata": {},
   "outputs": [],
   "source": [
    "words_to_look = [\n",
    "    'salud',\n",
    "    'farmacoeconomía',\n",
    "    'medicamentos',\n",
    "    'health',\n",
    "    'pharmacoeconomics',\n",
    "    'medicines',\n",
    "    'santé', \n",
    "    'pharmacoéconomie',\n",
    "    'médicaments',\n",
    "    'saude',\n",
    "    'farmacoeconomia',\n",
    "    'medicamentos'\n",
    "    ]\n",
    "\n",
    "today = date.today().strftime(\"%d/%m/%Y\")\n",
    "source = 'wbg'\n",
    "main_url = 'https://www.worldbank.org/en/about/corporate-procurement/business-opportunities/administrative-procurement'"
   ]
  },
  {
   "attachments": {},
   "cell_type": "markdown",
   "metadata": {},
   "source": [
    "### Generacion de csv"
   ]
  },
  {
   "cell_type": "code",
   "execution_count": 28,
   "metadata": {},
   "outputs": [],
   "source": [
    "df = pd.DataFrame(columns=['url_detail_id','scrapped_day','title','opening_date',\n",
    "                           'closing_date','source','is_alert','location'])"
   ]
  },
  {
   "cell_type": "code",
   "execution_count": 29,
   "metadata": {},
   "outputs": [],
   "source": [
    "df.to_csv('./oportunidades_wbg.csv', index=False, encoding='utf-8', header=True)"
   ]
  },
  {
   "cell_type": "code",
   "execution_count": 5,
   "metadata": {},
   "outputs": [],
   "source": [
    "del df"
   ]
  },
  {
   "attachments": {},
   "cell_type": "markdown",
   "metadata": {},
   "source": [
    "### probando"
   ]
  },
  {
   "cell_type": "code",
   "execution_count": 4,
   "metadata": {},
   "outputs": [],
   "source": [
    "def get_page(url):\n",
    "    page = requests.get(url)\n",
    "    tree = html.fromstring(page.content)\n",
    "    return tree"
   ]
  },
  {
   "cell_type": "code",
   "execution_count": 5,
   "metadata": {},
   "outputs": [],
   "source": [
    "def get_by_xpath_and_clean(tree, xpath, i=0):\n",
    "    \"\"\"\"\"\"\n",
    "    try:\n",
    "        if i=='join':\n",
    "            text = tree.xpath(xpath)\n",
    "            text = re.sub(r'[\\n\\t\\xa0]', '', ' '.join(text)).strip()\n",
    "            return text\n",
    "        else:\n",
    "            text = tree.xpath(xpath)[i]\n",
    "            text = re.sub(r'[\\n\\t\\xa0]', '', text).strip()\n",
    "            return text\n",
    "    except:\n",
    "        return None"
   ]
  },
  {
   "cell_type": "code",
   "execution_count": 6,
   "metadata": {},
   "outputs": [],
   "source": [
    "\n",
    "response = get_page(main_url)"
   ]
  },
  {
   "cell_type": "code",
   "execution_count": 7,
   "metadata": {},
   "outputs": [
    {
     "data": {
      "text/plain": [
       "'23-Mar-2023'"
      ]
     },
     "execution_count": 7,
     "metadata": {},
     "output_type": "execute_result"
    }
   ],
   "source": [
    "#get the today date in format \"15-Mar-2023\"\n",
    "today = date.today().strftime(\"%d-%b-%Y\")\n",
    "today"
   ]
  },
  {
   "cell_type": "code",
   "execution_count": 8,
   "metadata": {},
   "outputs": [
    {
     "data": {
      "text/plain": [
       "45"
      ]
     },
     "execution_count": 8,
     "metadata": {},
     "output_type": "execute_result"
    }
   ],
   "source": [
    "jobs = response.xpath('//table/tbody/tr')\n",
    "len(jobs)"
   ]
  },
  {
   "cell_type": "code",
   "execution_count": 9,
   "metadata": {},
   "outputs": [],
   "source": [
    "job = jobs[0]"
   ]
  },
  {
   "cell_type": "code",
   "execution_count": 10,
   "metadata": {},
   "outputs": [
    {
     "data": {
      "text/plain": [
       "'/en/about/corporate-procurement/business-opportunities/administrative-procurement/rfp-23-0348-cleaning-services-for-ibrd-office-in-brussels-belgium'"
      ]
     },
     "execution_count": 10,
     "metadata": {},
     "output_type": "execute_result"
    }
   ],
   "source": [
    "get_by_xpath_and_clean(job,'./td/a/@href')"
   ]
  },
  {
   "cell_type": "code",
   "execution_count": 11,
   "metadata": {},
   "outputs": [
    {
     "data": {
      "text/plain": [
       "'RFP 23-0348 CLEANING SERVICES FOR IBRD OFFICE IN BRUSSELS, BELGIUM'"
      ]
     },
     "execution_count": 11,
     "metadata": {},
     "output_type": "execute_result"
    }
   ],
   "source": [
    "#title\n",
    "get_by_xpath_and_clean(job,'./td/a/text()')"
   ]
  },
  {
   "cell_type": "code",
   "execution_count": 12,
   "metadata": {},
   "outputs": [
    {
     "data": {
      "text/plain": [
       "'RFP 23-0348'"
      ]
     },
     "execution_count": 12,
     "metadata": {},
     "output_type": "execute_result"
    }
   ],
   "source": [
    "#ref\n",
    "get_by_xpath_and_clean(job,'./td[2]/text()')"
   ]
  },
  {
   "cell_type": "code",
   "execution_count": 13,
   "metadata": {},
   "outputs": [
    {
     "data": {
      "text/plain": [
       "'February 28,2023'"
      ]
     },
     "execution_count": 13,
     "metadata": {},
     "output_type": "execute_result"
    }
   ],
   "source": [
    "#opening date\n",
    "get_by_xpath_and_clean(job,'./td[3]/text()')"
   ]
  },
  {
   "cell_type": "code",
   "execution_count": 14,
   "metadata": {},
   "outputs": [
    {
     "data": {
      "text/plain": [
       "'March 27,2023'"
      ]
     },
     "execution_count": 14,
     "metadata": {},
     "output_type": "execute_result"
    }
   ],
   "source": [
    "#closing date\n",
    "get_by_xpath_and_clean(job,'./td[4]/text()')"
   ]
  },
  {
   "cell_type": "code",
   "execution_count": 20,
   "metadata": {},
   "outputs": [
    {
     "data": {
      "text/plain": [
       "'https://www.worldbank.org/en/about/corporate-procurement/business-opportunities/administrative-procurement/rfp-23-0348-cleaning-services-for-ibrd-office-in-brussels-belgium'"
      ]
     },
     "execution_count": 20,
     "metadata": {},
     "output_type": "execute_result"
    }
   ],
   "source": [
    "detail_url = main_url + \"/\" + get_by_xpath_and_clean(job,'./td/a/@href').rsplit('/', 1)[1]\n",
    "detail_url"
   ]
  },
  {
   "cell_type": "code",
   "execution_count": 21,
   "metadata": {},
   "outputs": [],
   "source": [
    "detail_page = get_page(detail_url)"
   ]
  },
  {
   "cell_type": "code",
   "execution_count": 23,
   "metadata": {},
   "outputs": [
    {
     "data": {
      "text/plain": [
       "'RFP 23-0348 CLEANING SERVICES FOR IBRD OFFICE IN BRUSSELS, BELGIUM'"
      ]
     },
     "execution_count": 23,
     "metadata": {},
     "output_type": "execute_result"
    }
   ],
   "source": [
    "title = get_by_xpath_and_clean(job,'./td/a/text()')\n",
    "title"
   ]
  },
  {
   "cell_type": "code",
   "execution_count": 24,
   "metadata": {},
   "outputs": [],
   "source": [
    "text_for_alert =  ( title + get_by_xpath_and_clean(detail_page, \n",
    "                                        '//div[@class=\"c14v1-body-text\"]/descendant::text()', i='join')\\\n",
    "                        ).strip().lower()"
   ]
  },
  {
   "cell_type": "code",
   "execution_count": 25,
   "metadata": {},
   "outputs": [
    {
     "data": {
      "text/plain": [
       "\"rfp 23-0348 cleaning services for ibrd office in brussels, belgiumenter here the text that needs to be part of your advertisement. you may use the following text: \\r the solicitation may be obtained by sending an email to the designated category manager, referencing the following information: \\r 1. solicitation number \\r 2. company name \\r 3. contact person name and title \\r 4. address \\r 5. telephone number \\r 6. fax number \\r 7. contact's email address \\r a copy of the solicitation will be sent to organizations that have replied to and are eligible to receive this advertisement. all requests and questions regarding this solicitation shall be directed to the following designated corporate procurement category manager: \\r stefan kotupov at skotupov@worldbank.org \\r the wbg invites qualified firms to submit technical and financial proposals to provide services associated with the world bank group’s requirements. \\r firms must meet the following requirements to be eligible for the technical evaluation: \\r - evidence of minimum average annual gross revenues as set in the rfp for work similar to the statement of work. \\r - evidence of financial reports/certified financials for the previous 3 fiscal years that demonstrates it has the financial capability to successfully support the entire contract. \\r - evidence that the firm is registered and possesses all appropriate permits, licenses, certificates, and insurance required by local law to provide cleaning services in the country. \\r - evidence that over the last 5 years, the company has successfully and continuously been engaged in providing the services stated in the statement of work. these criteria shall be satisfied by the firm itself. \\r - certification that the firm has not been involved in any litigation action in the past 5 years which resulted in damages being awarded to the litigant, based on either failure to perform or poor maintenance. \\r - the firm must accept the draft contract proposed by wbg as is. \\r - any other requirements stated in the rfp.\""
      ]
     },
     "execution_count": 25,
     "metadata": {},
     "output_type": "execute_result"
    }
   ],
   "source": [
    "text_for_alert"
   ]
  },
  {
   "cell_type": "code",
   "execution_count": 53,
   "metadata": {},
   "outputs": [
    {
     "name": "stdout",
     "output_type": "stream",
     "text": [
      "nueva oportunidad encontrada\n",
      "nueva oportunidad encontrada\n",
      "nueva oportunidad encontrada\n",
      "nueva oportunidad encontrada\n",
      "nueva oportunidad encontrada\n",
      "nueva oportunidad encontrada\n",
      "nueva oportunidad encontrada\n",
      "nueva oportunidad encontrada\n",
      "nueva oportunidad encontrada\n",
      "nueva oportunidad encontrada\n",
      "nueva oportunidad encontrada\n",
      "nueva oportunidad encontrada\n",
      "nueva oportunidad encontrada\n",
      "nueva oportunidad encontrada\n",
      "nueva oportunidad encontrada\n"
     ]
    }
   ],
   "source": [
    "for i, job in enumerate(jobs):\n",
    "    #get the url of detail\n",
    "    detail_url = main_url + \"/\" + get_by_xpath_and_clean(job,'./td/a/@href').rsplit('/', 1)[1]\n",
    "    \n",
    "    #looks if the detail url is already in the dataset\n",
    "    if df['url_detail_id'][df['url_detail_id']==detail_url].any():\n",
    "        print('this job is already in the dataset')\n",
    "        continue\n",
    "\n",
    "    #if not  exist, get the detail\n",
    "    else:\n",
    "        print('nueva oportunidad encontrada')\n",
    "\n",
    "        detail_page = get_page(detail_url)\n",
    "\n",
    "        #type RFQ\n",
    "        reference = get_by_xpath_and_clean(job,'./td[2]/text()')\n",
    "        #get the title\n",
    "        title = get_by_xpath_and_clean(job,'./td/a/text()')\n",
    "        #Opening Date:\n",
    "        opening_date = get_by_xpath_and_clean(job,'./td[3]/text()')\n",
    "        #Closing Date\n",
    "        closing_date = get_by_xpath_and_clean(job,'./td[4]/text()')\n",
    "        \n",
    "        #find the body of the job and look for the words_to_look to appear once at least\n",
    "        is_alert = False\n",
    "\n",
    "        text_for_alert = ( title + get_by_xpath_and_clean(detail_page, \n",
    "                                        '//div[@class=\"c14v1-body-text\"]/descendant::text()', i='join')\\\n",
    "                        ).strip().lower()\n",
    "        if any(word in text_for_alert for word in words_to_look):\n",
    "            is_alert = True\n",
    "        #add the new job to the dataset\n",
    "        df = df.append({'url_detail_id': detail_url, 'scrapped_day': today,  'title': title, \n",
    "                'opening_date': opening_date, 'closing_date': closing_date,\n",
    "                'is_alert': is_alert, 'source': source}, ignore_index=True)"
   ]
  },
  {
   "cell_type": "code",
   "execution_count": 70,
   "metadata": {},
   "outputs": [
    {
     "data": {
      "text/html": [
       "<div>\n",
       "<style scoped>\n",
       "    .dataframe tbody tr th:only-of-type {\n",
       "        vertical-align: middle;\n",
       "    }\n",
       "\n",
       "    .dataframe tbody tr th {\n",
       "        vertical-align: top;\n",
       "    }\n",
       "\n",
       "    .dataframe thead th {\n",
       "        text-align: right;\n",
       "    }\n",
       "</style>\n",
       "<table border=\"1\" class=\"dataframe\">\n",
       "  <thead>\n",
       "    <tr style=\"text-align: right;\">\n",
       "      <th></th>\n",
       "      <th>url_detail_id</th>\n",
       "      <th>scrapped_day</th>\n",
       "      <th>title</th>\n",
       "      <th>opening_date</th>\n",
       "      <th>closing_date</th>\n",
       "      <th>source</th>\n",
       "      <th>is_alert</th>\n",
       "      <th>location</th>\n",
       "    </tr>\n",
       "  </thead>\n",
       "  <tbody>\n",
       "    <tr>\n",
       "      <th>25</th>\n",
       "      <td>https://www.ungm.org/Public/Notice/195176</td>\n",
       "      <td>18/03/2023</td>\n",
       "      <td>SDC-003-2023 Suministro de detectores acústico...</td>\n",
       "      <td>18-Mar-2023</td>\n",
       "      <td>31-Mar-2023 18:00 (GMT -5.00)</td>\n",
       "      <td>ungm</td>\n",
       "      <td>False</td>\n",
       "      <td>Mexico</td>\n",
       "    </tr>\n",
       "    <tr>\n",
       "      <th>26</th>\n",
       "      <td>https://www.ungm.org/Public/Notice/195178</td>\n",
       "      <td>18/03/2023</td>\n",
       "      <td>Cash for Work Through the Construction of Inta...</td>\n",
       "      <td>18-Mar-2023</td>\n",
       "      <td>02-Apr-2023 07:00 (GMT -5.00)</td>\n",
       "      <td>ungm</td>\n",
       "      <td>False</td>\n",
       "      <td>Afghanistan</td>\n",
       "    </tr>\n",
       "    <tr>\n",
       "      <th>27</th>\n",
       "      <td>https://www.ungm.org/Public/Notice/195179</td>\n",
       "      <td>18/03/2023</td>\n",
       "      <td>CONSULTANCY - TO DEVELOP POLICIES ON CHILD PRO...</td>\n",
       "      <td>18-Mar-2023</td>\n",
       "      <td>02-May-2023 10:00 (GMT -5.00)</td>\n",
       "      <td>ungm</td>\n",
       "      <td>False</td>\n",
       "      <td>Zimbabwe</td>\n",
       "    </tr>\n",
       "    <tr>\n",
       "      <th>28</th>\n",
       "      <td>https://www.ungm.org/Public/Notice/195180</td>\n",
       "      <td>18/03/2023</td>\n",
       "      <td>RFQ-122-23 Lot 2: Furnishing of Tikrit Univers...</td>\n",
       "      <td>18-Mar-2023</td>\n",
       "      <td>04-Apr-2023 00:00 (GMT 3.00)</td>\n",
       "      <td>ungm</td>\n",
       "      <td>False</td>\n",
       "      <td>Iraq</td>\n",
       "    </tr>\n",
       "    <tr>\n",
       "      <th>29</th>\n",
       "      <td>https://www.ungm.org/Public/Notice/195177</td>\n",
       "      <td>18/03/2023</td>\n",
       "      <td>Invitación a Licitar (ITB) Ref FAONI -06/2023-...</td>\n",
       "      <td>17-Mar-2023</td>\n",
       "      <td>30-Mar-2023 17:00 (GMT -6.00)</td>\n",
       "      <td>ungm</td>\n",
       "      <td>False</td>\n",
       "      <td>Nicaragua</td>\n",
       "    </tr>\n",
       "  </tbody>\n",
       "</table>\n",
       "</div>"
      ],
      "text/plain": [
       "                                url_detail_id scrapped_day  \\\n",
       "25  https://www.ungm.org/Public/Notice/195176   18/03/2023   \n",
       "26  https://www.ungm.org/Public/Notice/195178   18/03/2023   \n",
       "27  https://www.ungm.org/Public/Notice/195179   18/03/2023   \n",
       "28  https://www.ungm.org/Public/Notice/195180   18/03/2023   \n",
       "29  https://www.ungm.org/Public/Notice/195177   18/03/2023   \n",
       "\n",
       "                                                title opening_date  \\\n",
       "25  SDC-003-2023 Suministro de detectores acústico...  18-Mar-2023   \n",
       "26  Cash for Work Through the Construction of Inta...  18-Mar-2023   \n",
       "27  CONSULTANCY - TO DEVELOP POLICIES ON CHILD PRO...  18-Mar-2023   \n",
       "28  RFQ-122-23 Lot 2: Furnishing of Tikrit Univers...  18-Mar-2023   \n",
       "29  Invitación a Licitar (ITB) Ref FAONI -06/2023-...  17-Mar-2023   \n",
       "\n",
       "                     closing_date source is_alert     location  \n",
       "25  31-Mar-2023 18:00 (GMT -5.00)   ungm    False       Mexico  \n",
       "26  02-Apr-2023 07:00 (GMT -5.00)   ungm    False  Afghanistan  \n",
       "27  02-May-2023 10:00 (GMT -5.00)   ungm    False     Zimbabwe  \n",
       "28   04-Apr-2023 00:00 (GMT 3.00)   ungm    False         Iraq  \n",
       "29  30-Mar-2023 17:00 (GMT -6.00)   ungm    False    Nicaragua  "
      ]
     },
     "execution_count": 70,
     "metadata": {},
     "output_type": "execute_result"
    }
   ],
   "source": [
    "df.tail()"
   ]
  }
 ],
 "metadata": {
  "kernelspec": {
   "display_name": "Python 3",
   "language": "python",
   "name": "python3"
  },
  "language_info": {
   "codemirror_mode": {
    "name": "ipython",
    "version": 3
   },
   "file_extension": ".py",
   "mimetype": "text/x-python",
   "name": "python",
   "nbconvert_exporter": "python",
   "pygments_lexer": "ipython3",
   "version": "3.9.0"
  },
  "orig_nbformat": 4
 },
 "nbformat": 4,
 "nbformat_minor": 2
}
