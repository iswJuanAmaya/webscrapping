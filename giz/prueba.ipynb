{
 "cells": [
  {
   "cell_type": "code",
   "execution_count": 1,
   "metadata": {},
   "outputs": [],
   "source": [
    "import requests\n",
    "from lxml import html\n",
    "import pandas as pd\n",
    "from datetime import date"
   ]
  },
  {
   "attachments": {},
   "cell_type": "markdown",
   "metadata": {},
   "source": [
    "### Generacion de csv"
   ]
  },
  {
   "cell_type": "code",
   "execution_count": 2,
   "metadata": {},
   "outputs": [],
   "source": [
    "df = pd.DataFrame(columns=['url_detail_id','scrapped_day','title','opening_date',\n",
    "                           'closing_date','source','is_alert','location'])"
   ]
  },
  {
   "cell_type": "code",
   "execution_count": 4,
   "metadata": {},
   "outputs": [],
   "source": [
    "df.to_csv('giz_ops.csv', index=False, encoding='utf-8', header=True)"
   ]
  },
  {
   "cell_type": "code",
   "execution_count": null,
   "metadata": {},
   "outputs": [],
   "source": [
    "del df"
   ]
  },
  {
   "attachments": {},
   "cell_type": "markdown",
   "metadata": {},
   "source": [
    "### probando"
   ]
  },
  {
   "cell_type": "code",
   "execution_count": 8,
   "metadata": {},
   "outputs": [],
   "source": [
    "#lee la tabla de la pagina\n",
    "df = pd.read_csv('giz_ops.csv', encoding='utf-8')"
   ]
  },
  {
   "cell_type": "code",
   "execution_count": 9,
   "metadata": {},
   "outputs": [
    {
     "data": {
      "text/html": [
       "<div>\n",
       "<style scoped>\n",
       "    .dataframe tbody tr th:only-of-type {\n",
       "        vertical-align: middle;\n",
       "    }\n",
       "\n",
       "    .dataframe tbody tr th {\n",
       "        vertical-align: top;\n",
       "    }\n",
       "\n",
       "    .dataframe thead th {\n",
       "        text-align: right;\n",
       "    }\n",
       "</style>\n",
       "<table border=\"1\" class=\"dataframe\">\n",
       "  <thead>\n",
       "    <tr style=\"text-align: right;\">\n",
       "      <th></th>\n",
       "      <th>url_detail_id</th>\n",
       "      <th>scrapped_day</th>\n",
       "      <th>title</th>\n",
       "      <th>opening_date</th>\n",
       "      <th>closing_date</th>\n",
       "      <th>source</th>\n",
       "      <th>is_alert</th>\n",
       "      <th>location</th>\n",
       "    </tr>\n",
       "  </thead>\n",
       "  <tbody>\n",
       "  </tbody>\n",
       "</table>\n",
       "</div>"
      ],
      "text/plain": [
       "Empty DataFrame\n",
       "Columns: [url_detail_id, scrapped_day, title, opening_date, closing_date, source, is_alert, location]\n",
       "Index: []"
      ]
     },
     "execution_count": 9,
     "metadata": {},
     "output_type": "execute_result"
    }
   ],
   "source": [
    "df"
   ]
  },
  {
   "cell_type": "code",
   "execution_count": 10,
   "metadata": {},
   "outputs": [],
   "source": [
    "today = date.today().strftime(\"%d/%m/%Y\")"
   ]
  },
  {
   "cell_type": "code",
   "execution_count": 3,
   "metadata": {},
   "outputs": [],
   "source": [
    "def get_page(url):\n",
    "    page = requests.get(url)\n",
    "    tree = html.fromstring(page.content)\n",
    "    return tree"
   ]
  },
  {
   "cell_type": "code",
   "execution_count": 8,
   "metadata": {},
   "outputs": [],
   "source": [
    "\n",
    "headers = {\n",
    "    'Accept': 'application/json, text/javascript, */*; q=0.01',\n",
    "    'Accept-Language': 'es-419,es;q=0.9,es-MX;q=0.8,en;q=0.7',\n",
    "    'Connection': 'keep-alive',\n",
    "    'Origin': 'https://jobs.giz.de',\n",
    "    'Referer': 'https://jobs.giz.de/',\n",
    "    'Sec-Fetch-Dest': 'empty',\n",
    "    'Sec-Fetch-Mode': 'cors',\n",
    "    'Sec-Fetch-Site': 'cross-site',\n",
    "    'User-Agent': 'Mozilla/5.0 (Windows NT 10.0; Win64; x64) AppleWebKit/537.36 (KHTML, like Gecko) Chrome/111.0.0.0 Safari/537.36',\n",
    "    'sec-ch-ua': '\"Google Chrome\";v=\"111\", \"Not(A:Brand\";v=\"8\", \"Chromium\";v=\"111\"',\n",
    "    'sec-ch-ua-mobile': '?0',\n",
    "    'sec-ch-ua-platform': '\"Windows\"',\n",
    "}\n",
    "\n",
    "params = {\n",
    "    'data': '{\"LanguageCode\":\"EN\",\"SearchParameters\":{\"FirstItem\":1,\"CountItem\":10000,\"Sort\":[{\"Criterion\":\"PublicationStartDate\",\"Direction\":\"DESC\"}],\"MatchedObjectDescriptor\":[\"ID\",\"PositionTitle\",\"PositionURI\",\"PositionShortURI\",\"PositionLocation.CountryName\",\"PositionLocation.CityName\",\"PositionLocation.Longitude\",\"PositionLocation.Latitude\",\"PositionLocation.PostalCode\",\"PositionLocation.StreetName\",\"PositionLocation.BuildingNumber\",\"PositionLocation.Distance\",\"JobCategory.Name\",\"PublicationStartDate\",\"PublicationEndDate\",\"ParentOrganizationName\",\"OrganizationShortName\",\"CareerLevel.Name\",\"JobSector.Name\",\"PositionIndustry.Name\",\"PublicationCode\"]},\"SearchCriteria\":[{\"CriterionName\":\"PublicationChannel.Code\",\"CriterionValue\":[\"12\"]}]}',\n",
    "}\n",
    "\n",
    "response = requests.get('https://api-giz.beesite.de/search/', params=params, headers=headers)"
   ]
  },
  {
   "cell_type": "code",
   "execution_count": 9,
   "metadata": {},
   "outputs": [],
   "source": [
    "aver = response.json()"
   ]
  },
  {
   "cell_type": "code",
   "execution_count": null,
   "metadata": {},
   "outputs": [],
   "source": [
    "aver"
   ]
  },
  {
   "cell_type": "code",
   "execution_count": null,
   "metadata": {},
   "outputs": [],
   "source": [
    "headers = {\n",
    "    'Accept': 'application/json, text/javascript, */*; q=0.01',\n",
    "    'Accept-Language': 'es-419,es;q=0.9,es-MX;q=0.8,en;q=0.7',\n",
    "    'Connection': 'keep-alive',\n",
    "    'Origin': 'https://jobs.giz.de',\n",
    "    'Referer': 'https://jobs.giz.de/',\n",
    "    'Sec-Fetch-Dest': 'empty',\n",
    "    'Sec-Fetch-Mode': 'cors',\n",
    "    'Sec-Fetch-Site': 'cross-site',\n",
    "    'User-Agent': 'Mozilla/5.0 (Windows NT 10.0; Win64; x64) AppleWebKit/537.36 (KHTML, like Gecko) Chrome/111.0.0.0 Safari/537.36',\n",
    "    'sec-ch-ua': '\"Google Chrome\";v=\"111\", \"Not(A:Brand\";v=\"8\", \"Chromium\";v=\"111\"',\n",
    "    'sec-ch-ua-mobile': '?0',\n",
    "    'sec-ch-ua-platform': '\"Windows\"',\n",
    "}\n",
    "\n",
    "params = {\n",
    "    'data': '{\"LanguageCode\":\"EN\",\"SearchParameters\":{\"FirstItem\":1,\"CountItem\":10,\"Sort\":[{\"Criterion\":\"PublicationStartDate\",\"Direction\":\"DESC\"}],\"MatchedObjectDescriptor\":[\"ID\",\"PositionTitle\",\"PositionURI\",\"PositionShortURI\",\"PositionLocation.CountryName\",\"PositionLocation.CityName\",\"PositionLocation.Longitude\",\"PositionLocation.Latitude\",\"PositionLocation.PostalCode\",\"PositionLocation.StreetName\",\"PositionLocation.BuildingNumber\",\"PositionLocation.Distance\",\"JobCategory.Name\",\"PublicationStartDate\",\"PublicationEndDate\",\"ParentOrganizationName\",\"OrganizationShortName\",\"CareerLevel.Name\",\"JobSector.Name\",\"PositionIndustry.Name\",\"PublicationCode\",\"PublicationChannel.Id\"]},\"SearchCriteria\":[{\"CriterionName\":\"PublicationChannel.Code\",\"CriterionValue\":[\"12\"]}]}',\n",
    "}\n",
    "\n",
    "response = requests.get('https://api-giz.beesite.de/search/', params=params, headers=headers)"
   ]
  },
  {
   "cell_type": "code",
   "execution_count": 23,
   "metadata": {},
   "outputs": [
    {
     "data": {
      "text/plain": [
       "141"
      ]
     },
     "execution_count": 23,
     "metadata": {},
     "output_type": "execute_result"
    }
   ],
   "source": [
    "#número de jobs encontrados\n",
    "aver['SearchResult']['SearchResultCount']"
   ]
  },
  {
   "cell_type": "code",
   "execution_count": 13,
   "metadata": {},
   "outputs": [],
   "source": [
    "\n",
    "jobs = aver['SearchResult']['SearchResultItems']"
   ]
  },
  {
   "cell_type": "code",
   "execution_count": null,
   "metadata": {},
   "outputs": [],
   "source": [
    "job = jobs[0]\n",
    "job"
   ]
  },
  {
   "cell_type": "code",
   "execution_count": 15,
   "metadata": {},
   "outputs": [
    {
     "data": {
      "text/plain": [
       "'https://jobs.giz.de/index.php?ac=jobad&id=66259'"
      ]
     },
     "execution_count": 15,
     "metadata": {},
     "output_type": "execute_result"
    }
   ],
   "source": [
    "#detail_url\n",
    "detail_url = job['MatchedObjectDescriptor']['PositionURI']\n",
    "detail_url"
   ]
  },
  {
   "cell_type": "code",
   "execution_count": 16,
   "metadata": {},
   "outputs": [
    {
     "data": {
      "text/plain": [
       "'Entwicklungshelfer*in als Berater*in Berufliche Bildung'"
      ]
     },
     "execution_count": 16,
     "metadata": {},
     "output_type": "execute_result"
    }
   ],
   "source": [
    "job['MatchedObjectDescriptor']['PositionTitle']"
   ]
  },
  {
   "cell_type": "code",
   "execution_count": 17,
   "metadata": {},
   "outputs": [
    {
     "data": {
      "text/plain": [
       "'Accra'"
      ]
     },
     "execution_count": 17,
     "metadata": {},
     "output_type": "execute_result"
    }
   ],
   "source": [
    "job['MatchedObjectDescriptor']['PositionLocation'][0]['CityName']"
   ]
  },
  {
   "cell_type": "code",
   "execution_count": 18,
   "metadata": {},
   "outputs": [
    {
     "data": {
      "text/plain": [
       "'2023-03-14'"
      ]
     },
     "execution_count": 18,
     "metadata": {},
     "output_type": "execute_result"
    }
   ],
   "source": [
    "job['MatchedObjectDescriptor']['PublicationChannel'][0]['StartDate']"
   ]
  },
  {
   "cell_type": "code",
   "execution_count": 21,
   "metadata": {},
   "outputs": [
    {
     "data": {
      "text/plain": [
       "'2023-04-16'"
      ]
     },
     "execution_count": 21,
     "metadata": {},
     "output_type": "execute_result"
    }
   ],
   "source": [
    "job['MatchedObjectDescriptor']['PublicationEndDate']"
   ]
  },
  {
   "cell_type": "code",
   "execution_count": 39,
   "metadata": {},
   "outputs": [],
   "source": [
    "detail_page = get_page(detail_url)"
   ]
  },
  {
   "cell_type": "code",
   "execution_count": 4,
   "metadata": {},
   "outputs": [],
   "source": [
    "detail_page = get_page('https://jobs.giz.de/index.php?ac=jobad&id=66494')"
   ]
  },
  {
   "cell_type": "code",
   "execution_count": 5,
   "metadata": {},
   "outputs": [],
   "source": [
    "l1 = detail_page.xpath('(//div[@class=\"panel-body\"])[1]/descendant::text()')"
   ]
  },
  {
   "cell_type": "code",
   "execution_count": 6,
   "metadata": {},
   "outputs": [],
   "source": [
    "l2 = detail_page.xpath('(//div[@class=\"panel-body\"])[2]/descendant::text()')"
   ]
  },
  {
   "cell_type": "code",
   "execution_count": 7,
   "metadata": {},
   "outputs": [],
   "source": [
    "l3 = detail_page.xpath('(//div[@class=\"panel-body\"])[3]/descendant::text()')"
   ]
  },
  {
   "cell_type": "code",
   "execution_count": 8,
   "metadata": {},
   "outputs": [],
   "source": [
    "import re"
   ]
  },
  {
   "cell_type": "code",
   "execution_count": 9,
   "metadata": {},
   "outputs": [
    {
     "data": {
      "text/plain": [
       "'das vorhaben globale gesundheit berät das bundesministerium für wirtschaftliche zusammenarbeit und entwicklung (bmz) zu verschiedenen themen der globalen gesundheitspolitik wie der eindämmung von infektionskrankheiten, rolle multilateraler gesundheitsinitiativen, stärkung von gesundheitssystemen und förderung von digitalen ansätzen. das vorhaben steht in einem lebendigen austausch mit akteuren der deutschen und internationalen entwicklungszusammenarbeit (ez) und trägt damit unmittelbar zur gestaltung der globalen gesundheitspolitik bei. die stelle ist in der bmz-beratung zu internationalen gesundheitsinitiativen mit fokus auf den globalen fonds zur bekämpfung von aids, tuberkulose und malaria (gfatm) angesiedelt. strategische und ad-hoc beratung des bmz zu internationalen gesundheitsinitiativen mit fokus auf den gfatm und seiner rolle in der globalen gesundheit  erstellung von strategischen analysen, positionspapieren, konzepten und redebeiträgen auf deutsch und englisch sowie federführung bei einzelnen beratungsthemen  inhaltliche vor- und nachbereitung der bmz-teilnahme an internationalen gremiensitzungen sowie ggf. begleitung oder stellvertretende teilnahme  fortlaufende analyse internationaler prozesse und relevanter fachdiskurse  qualitätssicherung im team von bmz zulieferungen und abstimmung mit anderen projekten der deutschen ez  unterstützung bei der kommunikation des vorhabens mit dem bmz sowie mit internationalen partnern zum gfatm  beitrag zur weiterentwicklung des vorhabens sowie beim wirkungsmonitoring und wissensmanagement  abgeschlossenes masterstudium im bereich gesundheitswissenschaften, medizin, pharmazie, infektiologie oder vergleichbarer studiengang mit gesundheitsbezug  mehrjährige berufserfahrung in der internationalen zusammenarbeit im gesundheitsbereich, idealerweise im ausland; erfahrungen mit der giz sind wünschenswert  erste erfahrungen in der politikberatung und/oder kooperation mit multilateralen organisationen (vorzugsweise mit gesundheitsbezug)  nachgewiesene fachkenntnisse in bereichen wie infektionskrankheiten, gesundheitssystemstärkung, medikamentenzugang und/oder globale finanzierungsmechanismen  vertrautheit mit aktuellen themen, diskussionen und akteuren in der globalen gesundheitspolitik  kenntnisse über die strukturen und strategischen ziele des gfatm sind wünschenswert  hohe affinität und nachweisliche erfahrungen im schreiben von prägnanten fachlichen und politischen texten sowie die fähigkeit, sich schnell in neue sachverhalte einzuarbeiten  strukturiertes und selbstständiges arbeiten, analytisches und strategisches denken sowie ausgeprägte anpassungsfähigkeit und belastbarkeit auch unter zeitdruck  ausgeprägte kommunikations-, kooperations- und beratungskompetenz verbunden mit organisationsgeschick, politischem feingefühl und sicherem auftreten  verhandlungssichere deutsch- und englischkenntnisse'"
      ]
     },
     "execution_count": 9,
     "metadata": {},
     "output_type": "execute_result"
    }
   ],
   "source": [
    "re.sub(r'[\\n\\t\\xa0]', '', ' '.join(l1+l2+l3) ).strip().lower()\n"
   ]
  },
  {
   "cell_type": "code",
   "execution_count": 10,
   "metadata": {},
   "outputs": [],
   "source": [
    "words_to_look = [\n",
    "        'Salud',\n",
    "        'Farmacoeconomía',\n",
    "        'Medicamentos',\n",
    "        'Health',\n",
    "        'Pharmacoeconomics',\n",
    "        'Medicines',\n",
    "        'Gesundheit',\n",
    "        'Pharmakoökonomie',\n",
    "        'Medikamente',\n",
    "        'Gesundheitssystem',\n",
    "    ]"
   ]
  },
  {
   "cell_type": "code",
   "execution_count": 11,
   "metadata": {},
   "outputs": [],
   "source": [
    "text_for_alert = re.sub(r'[\\n\\t\\xa0]', '', ' '.join(l1+l2+l3) ).strip().lower()"
   ]
  },
  {
   "cell_type": "code",
   "execution_count": 18,
   "metadata": {},
   "outputs": [
    {
     "data": {
      "text/plain": [
       "True"
      ]
     },
     "execution_count": 18,
     "metadata": {},
     "output_type": "execute_result"
    }
   ],
   "source": [
    "'gesundheit' in text_for_alert"
   ]
  },
  {
   "cell_type": "code",
   "execution_count": null,
   "metadata": {},
   "outputs": [],
   "source": [
    "text_for_alert"
   ]
  },
  {
   "cell_type": "code",
   "execution_count": 16,
   "metadata": {},
   "outputs": [
    {
     "data": {
      "text/plain": [
       "['Salud',\n",
       " 'Farmacoeconomía',\n",
       " 'Medicamentos',\n",
       " 'Health',\n",
       " 'Pharmacoeconomics',\n",
       " 'Medicines',\n",
       " 'Gesundheit',\n",
       " 'Pharmakoökonomie',\n",
       " 'Medikamente',\n",
       " 'Gesundheitssystem']"
      ]
     },
     "execution_count": 16,
     "metadata": {},
     "output_type": "execute_result"
    }
   ],
   "source": [
    "[word for word in words_to_look]"
   ]
  },
  {
   "cell_type": "code",
   "execution_count": null,
   "metadata": {},
   "outputs": [],
   "source": [
    "if any(word in text_for_alert for word in words_to_look):\n",
    "                is_alert = True"
   ]
  }
 ],
 "metadata": {
  "kernelspec": {
   "display_name": "Python 3",
   "language": "python",
   "name": "python3"
  },
  "language_info": {
   "codemirror_mode": {
    "name": "ipython",
    "version": 3
   },
   "file_extension": ".py",
   "mimetype": "text/x-python",
   "name": "python",
   "nbconvert_exporter": "python",
   "pygments_lexer": "ipython3",
   "version": "3.9.0"
  },
  "orig_nbformat": 4
 },
 "nbformat": 4,
 "nbformat_minor": 2
}
